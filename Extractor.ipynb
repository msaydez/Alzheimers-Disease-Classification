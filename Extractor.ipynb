{
  "nbformat": 4,
  "nbformat_minor": 0,
  "metadata": {
    "colab": {
      "name": "Extractor.ipynb",
      "provenance": [],
      "collapsed_sections": []
    },
    "kernelspec": {
      "name": "python3",
      "display_name": "Python 3"
    },
    "language_info": {
      "name": "python"
    }
  },
  "cells": [
    {
      "cell_type": "markdown",
      "metadata": {
        "id": "Mi5n7F-vcXTk"
      },
      "source": [
        "#EXTRACTOR.PY\n",
        "\n"
      ]
    },
    {
      "cell_type": "code",
      "metadata": {
        "id": "zovHpE4NcUUm"
      },
      "source": [
        "import tensorflow as tf\n",
        "import numpy as np\n",
        "from skimage.transform import resize\n",
        "import os\n",
        "\n",
        "PB_FILE = os.path.join(os.path.dirname(__file__), \"models\", \"graph.pb\")\n",
        "CHECKPOINT_DIR = os.path.join(os.path.dirname(__file__), \"models\")\n",
        "\n",
        "\n",
        "class Extractor:\n",
        "\n",
        "    def __init__(self):\n",
        "        self.SIZE = 128\n",
        "        self.load_pb()\n",
        "\n",
        "    def load_pb(self):\n",
        "        graph = tf.Graph()\n",
        "        self.sess = tf.compat.v1.Session(graph=graph)\n",
        "        with tf.compat.v1.gfile.FastGFile(PB_FILE, 'rb') as f:\n",
        "            graph_def = tf.compat.v1.GraphDef() \n",
        "            graph_def.ParseFromString(f.read())\n",
        "            with self.sess.graph.as_default():\n",
        "                tf.import_graph_def(graph_def)\n",
        "\n",
        "        self.img = graph.get_tensor_by_name(\"import/img:0\")\n",
        "        self.training = graph.get_tensor_by_name(\"import/training:0\")\n",
        "        self.dim = graph.get_tensor_by_name(\"import/dim:0\")\n",
        "        self.prob = graph.get_tensor_by_name(\"import/prob:0\")\n",
        "        self.pred = graph.get_tensor_by_name(\"import/pred:0\")\n",
        "\n",
        "    def load_ckpt(self):\n",
        "        self.sess = tf.Session()\n",
        "        ckpt_path = tf.train.latest_checkpoint(CHECKPOINT_DIR)\n",
        "        saver = tf.train.import_meta_graph('{}.meta'.format(ckpt_path))\n",
        "        saver.restore(self.sess, ckpt_path)\n",
        "\n",
        "        g = tf.get_default_graph()\n",
        "\n",
        "        self.img = g.get_tensor_by_name(\"img:0\")\n",
        "        self.training = g.get_tensor_by_name(\"training:0\")\n",
        "        self.dim = g.get_tensor_by_name(\"dim:0\")\n",
        "        self.prob = g.get_tensor_by_name(\"prob:0\")\n",
        "        self.pred = g.get_tensor_by_name(\"pred:0\")\n",
        "\n",
        "    def run(self, image):\n",
        "        shape = image.shape\n",
        "        img = resize(image, (self.SIZE, self.SIZE, self.SIZE), mode='constant', anti_aliasing=True)\n",
        "        img = (img / np.max(img))\n",
        "        img = np.reshape(img, [1, self.SIZE, self.SIZE, self.SIZE, 1])\n",
        "\n",
        "        prob = self.sess.run(self.prob, feed_dict={self.training: False, self.img: img}).squeeze()\n",
        "        prob = resize(prob, (shape), mode='constant', anti_aliasing=True)\n",
        "        return prob\n",
        "\n",
        "\n"
      ],
      "execution_count": null,
      "outputs": []
    }
  ]
}