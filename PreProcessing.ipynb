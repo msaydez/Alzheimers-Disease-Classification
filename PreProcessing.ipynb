{
  "nbformat": 4,
  "nbformat_minor": 0,
  "metadata": {
    "colab": {
      "name": "PreProcessing.ipynb",
      "provenance": [],
      "collapsed_sections": []
    },
    "kernelspec": {
      "display_name": "Python 3",
      "name": "python3"
    },
    "language_info": {
      "name": "python"
    }
  },
  "cells": [
    {
      "cell_type": "markdown",
      "metadata": {
        "id": "UN86zSy1msjS"
      },
      "source": [
        "##Installations"
      ]
    },
    {
      "cell_type": "code",
      "metadata": {
        "colab": {
          "base_uri": "https://localhost:8080/"
        },
        "id": "qgL9yIOXmQJd",
        "outputId": "750c8312-b664-47c2-8646-17ffb81e6170"
      },
      "source": [
        "!pip install deepbrain\n",
        "!pip install nilearn\n",
        "!pip uninstall opencv-python\n",
        "!pip install -U opencv-contrib-python"
      ],
      "execution_count": null,
      "outputs": [
        {
          "output_type": "stream",
          "text": [
            "Collecting deepbrain\n",
            "\u001b[?25l  Downloading https://files.pythonhosted.org/packages/61/e4/1f4f6c483dd9c5c1e0e38193b3c7ade8beb13c24c90bab593ca545c7da92/deepbrain-0.1-py3-none-any.whl (677kB)\n",
            "\r\u001b[K     |▌                               | 10kB 11.6MB/s eta 0:00:01\r\u001b[K     |█                               | 20kB 16.7MB/s eta 0:00:01\r\u001b[K     |█▌                              | 30kB 11.3MB/s eta 0:00:01\r\u001b[K     |██                              | 40kB 8.6MB/s eta 0:00:01\r\u001b[K     |██▍                             | 51kB 5.6MB/s eta 0:00:01\r\u001b[K     |███                             | 61kB 6.4MB/s eta 0:00:01\r\u001b[K     |███▍                            | 71kB 6.0MB/s eta 0:00:01\r\u001b[K     |███▉                            | 81kB 6.4MB/s eta 0:00:01\r\u001b[K     |████▍                           | 92kB 6.2MB/s eta 0:00:01\r\u001b[K     |████▉                           | 102kB 5.3MB/s eta 0:00:01\r\u001b[K     |█████▎                          | 112kB 5.3MB/s eta 0:00:01\r\u001b[K     |█████▉                          | 122kB 5.3MB/s eta 0:00:01\r\u001b[K     |██████▎                         | 133kB 5.3MB/s eta 0:00:01\r\u001b[K     |██████▊                         | 143kB 5.3MB/s eta 0:00:01\r\u001b[K     |███████▎                        | 153kB 5.3MB/s eta 0:00:01\r\u001b[K     |███████▊                        | 163kB 5.3MB/s eta 0:00:01\r\u001b[K     |████████▏                       | 174kB 5.3MB/s eta 0:00:01\r\u001b[K     |████████▊                       | 184kB 5.3MB/s eta 0:00:01\r\u001b[K     |█████████▏                      | 194kB 5.3MB/s eta 0:00:01\r\u001b[K     |█████████▊                      | 204kB 5.3MB/s eta 0:00:01\r\u001b[K     |██████████▏                     | 215kB 5.3MB/s eta 0:00:01\r\u001b[K     |██████████▋                     | 225kB 5.3MB/s eta 0:00:01\r\u001b[K     |███████████▏                    | 235kB 5.3MB/s eta 0:00:01\r\u001b[K     |███████████▋                    | 245kB 5.3MB/s eta 0:00:01\r\u001b[K     |████████████                    | 256kB 5.3MB/s eta 0:00:01\r\u001b[K     |████████████▋                   | 266kB 5.3MB/s eta 0:00:01\r\u001b[K     |█████████████                   | 276kB 5.3MB/s eta 0:00:01\r\u001b[K     |█████████████▌                  | 286kB 5.3MB/s eta 0:00:01\r\u001b[K     |██████████████                  | 296kB 5.3MB/s eta 0:00:01\r\u001b[K     |██████████████▌                 | 307kB 5.3MB/s eta 0:00:01\r\u001b[K     |███████████████                 | 317kB 5.3MB/s eta 0:00:01\r\u001b[K     |███████████████▌                | 327kB 5.3MB/s eta 0:00:01\r\u001b[K     |████████████████                | 337kB 5.3MB/s eta 0:00:01\r\u001b[K     |████████████████▍               | 348kB 5.3MB/s eta 0:00:01\r\u001b[K     |█████████████████               | 358kB 5.3MB/s eta 0:00:01\r\u001b[K     |█████████████████▍              | 368kB 5.3MB/s eta 0:00:01\r\u001b[K     |██████████████████              | 378kB 5.3MB/s eta 0:00:01\r\u001b[K     |██████████████████▍             | 389kB 5.3MB/s eta 0:00:01\r\u001b[K     |██████████████████▉             | 399kB 5.3MB/s eta 0:00:01\r\u001b[K     |███████████████████▍            | 409kB 5.3MB/s eta 0:00:01\r\u001b[K     |███████████████████▉            | 419kB 5.3MB/s eta 0:00:01\r\u001b[K     |████████████████████▎           | 430kB 5.3MB/s eta 0:00:01\r\u001b[K     |████████████████████▉           | 440kB 5.3MB/s eta 0:00:01\r\u001b[K     |█████████████████████▎          | 450kB 5.3MB/s eta 0:00:01\r\u001b[K     |█████████████████████▊          | 460kB 5.3MB/s eta 0:00:01\r\u001b[K     |██████████████████████▎         | 471kB 5.3MB/s eta 0:00:01\r\u001b[K     |██████████████████████▊         | 481kB 5.3MB/s eta 0:00:01\r\u001b[K     |███████████████████████▏        | 491kB 5.3MB/s eta 0:00:01\r\u001b[K     |███████████████████████▊        | 501kB 5.3MB/s eta 0:00:01\r\u001b[K     |████████████████████████▏       | 512kB 5.3MB/s eta 0:00:01\r\u001b[K     |████████████████████████▋       | 522kB 5.3MB/s eta 0:00:01\r\u001b[K     |█████████████████████████▏      | 532kB 5.3MB/s eta 0:00:01\r\u001b[K     |█████████████████████████▋      | 542kB 5.3MB/s eta 0:00:01\r\u001b[K     |██████████████████████████▏     | 552kB 5.3MB/s eta 0:00:01\r\u001b[K     |██████████████████████████▋     | 563kB 5.3MB/s eta 0:00:01\r\u001b[K     |███████████████████████████     | 573kB 5.3MB/s eta 0:00:01\r\u001b[K     |███████████████████████████▋    | 583kB 5.3MB/s eta 0:00:01\r\u001b[K     |████████████████████████████    | 593kB 5.3MB/s eta 0:00:01\r\u001b[K     |████████████████████████████▌   | 604kB 5.3MB/s eta 0:00:01\r\u001b[K     |█████████████████████████████   | 614kB 5.3MB/s eta 0:00:01\r\u001b[K     |█████████████████████████████▌  | 624kB 5.3MB/s eta 0:00:01\r\u001b[K     |██████████████████████████████  | 634kB 5.3MB/s eta 0:00:01\r\u001b[K     |██████████████████████████████▌ | 645kB 5.3MB/s eta 0:00:01\r\u001b[K     |███████████████████████████████ | 655kB 5.3MB/s eta 0:00:01\r\u001b[K     |███████████████████████████████▍| 665kB 5.3MB/s eta 0:00:01\r\u001b[K     |████████████████████████████████| 675kB 5.3MB/s eta 0:00:01\r\u001b[K     |████████████████████████████████| 686kB 5.3MB/s \n",
            "\u001b[?25hRequirement already satisfied: scikit-image in /usr/local/lib/python3.7/dist-packages (from deepbrain) (0.16.2)\n",
            "Requirement already satisfied: nibabel in /usr/local/lib/python3.7/dist-packages (from deepbrain) (3.0.2)\n",
            "Requirement already satisfied: tensorflow in /usr/local/lib/python3.7/dist-packages (from deepbrain) (2.5.0)\n",
            "Requirement already satisfied: imageio>=2.3.0 in /usr/local/lib/python3.7/dist-packages (from scikit-image->deepbrain) (2.4.1)\n",
            "Requirement already satisfied: scipy>=0.19.0 in /usr/local/lib/python3.7/dist-packages (from scikit-image->deepbrain) (1.4.1)\n",
            "Requirement already satisfied: pillow>=4.3.0 in /usr/local/lib/python3.7/dist-packages (from scikit-image->deepbrain) (7.1.2)\n",
            "Requirement already satisfied: networkx>=2.0 in /usr/local/lib/python3.7/dist-packages (from scikit-image->deepbrain) (2.5.1)\n",
            "Requirement already satisfied: PyWavelets>=0.4.0 in /usr/local/lib/python3.7/dist-packages (from scikit-image->deepbrain) (1.1.1)\n",
            "Requirement already satisfied: matplotlib!=3.0.0,>=2.0.0 in /usr/local/lib/python3.7/dist-packages (from scikit-image->deepbrain) (3.2.2)\n",
            "Requirement already satisfied: numpy>=1.12 in /usr/local/lib/python3.7/dist-packages (from nibabel->deepbrain) (1.19.5)\n",
            "Requirement already satisfied: h5py~=3.1.0 in /usr/local/lib/python3.7/dist-packages (from tensorflow->deepbrain) (3.1.0)\n",
            "Requirement already satisfied: six~=1.15.0 in /usr/local/lib/python3.7/dist-packages (from tensorflow->deepbrain) (1.15.0)\n",
            "Requirement already satisfied: flatbuffers~=1.12.0 in /usr/local/lib/python3.7/dist-packages (from tensorflow->deepbrain) (1.12)\n",
            "Requirement already satisfied: grpcio~=1.34.0 in /usr/local/lib/python3.7/dist-packages (from tensorflow->deepbrain) (1.34.1)\n",
            "Requirement already satisfied: tensorflow-estimator<2.6.0,>=2.5.0rc0 in /usr/local/lib/python3.7/dist-packages (from tensorflow->deepbrain) (2.5.0)\n",
            "Requirement already satisfied: absl-py~=0.10 in /usr/local/lib/python3.7/dist-packages (from tensorflow->deepbrain) (0.12.0)\n",
            "Requirement already satisfied: keras-preprocessing~=1.1.2 in /usr/local/lib/python3.7/dist-packages (from tensorflow->deepbrain) (1.1.2)\n",
            "Requirement already satisfied: wrapt~=1.12.1 in /usr/local/lib/python3.7/dist-packages (from tensorflow->deepbrain) (1.12.1)\n",
            "Requirement already satisfied: google-pasta~=0.2 in /usr/local/lib/python3.7/dist-packages (from tensorflow->deepbrain) (0.2.0)\n",
            "Requirement already satisfied: gast==0.4.0 in /usr/local/lib/python3.7/dist-packages (from tensorflow->deepbrain) (0.4.0)\n",
            "Requirement already satisfied: opt-einsum~=3.3.0 in /usr/local/lib/python3.7/dist-packages (from tensorflow->deepbrain) (3.3.0)\n",
            "Requirement already satisfied: typing-extensions~=3.7.4 in /usr/local/lib/python3.7/dist-packages (from tensorflow->deepbrain) (3.7.4.3)\n",
            "Requirement already satisfied: termcolor~=1.1.0 in /usr/local/lib/python3.7/dist-packages (from tensorflow->deepbrain) (1.1.0)\n",
            "Requirement already satisfied: tensorboard~=2.5 in /usr/local/lib/python3.7/dist-packages (from tensorflow->deepbrain) (2.5.0)\n",
            "Requirement already satisfied: protobuf>=3.9.2 in /usr/local/lib/python3.7/dist-packages (from tensorflow->deepbrain) (3.12.4)\n",
            "Requirement already satisfied: keras-nightly~=2.5.0.dev in /usr/local/lib/python3.7/dist-packages (from tensorflow->deepbrain) (2.5.0.dev2021032900)\n",
            "Requirement already satisfied: astunparse~=1.6.3 in /usr/local/lib/python3.7/dist-packages (from tensorflow->deepbrain) (1.6.3)\n",
            "Requirement already satisfied: wheel~=0.35 in /usr/local/lib/python3.7/dist-packages (from tensorflow->deepbrain) (0.36.2)\n",
            "Requirement already satisfied: decorator<5,>=4.3 in /usr/local/lib/python3.7/dist-packages (from networkx>=2.0->scikit-image->deepbrain) (4.4.2)\n",
            "Requirement already satisfied: pyparsing!=2.0.4,!=2.1.2,!=2.1.6,>=2.0.1 in /usr/local/lib/python3.7/dist-packages (from matplotlib!=3.0.0,>=2.0.0->scikit-image->deepbrain) (2.4.7)\n",
            "Requirement already satisfied: kiwisolver>=1.0.1 in /usr/local/lib/python3.7/dist-packages (from matplotlib!=3.0.0,>=2.0.0->scikit-image->deepbrain) (1.3.1)\n",
            "Requirement already satisfied: cycler>=0.10 in /usr/local/lib/python3.7/dist-packages (from matplotlib!=3.0.0,>=2.0.0->scikit-image->deepbrain) (0.10.0)\n",
            "Requirement already satisfied: python-dateutil>=2.1 in /usr/local/lib/python3.7/dist-packages (from matplotlib!=3.0.0,>=2.0.0->scikit-image->deepbrain) (2.8.1)\n",
            "Requirement already satisfied: cached-property; python_version < \"3.8\" in /usr/local/lib/python3.7/dist-packages (from h5py~=3.1.0->tensorflow->deepbrain) (1.5.2)\n",
            "Requirement already satisfied: requests<3,>=2.21.0 in /usr/local/lib/python3.7/dist-packages (from tensorboard~=2.5->tensorflow->deepbrain) (2.23.0)\n",
            "Requirement already satisfied: markdown>=2.6.8 in /usr/local/lib/python3.7/dist-packages (from tensorboard~=2.5->tensorflow->deepbrain) (3.3.4)\n",
            "Requirement already satisfied: tensorboard-data-server<0.7.0,>=0.6.0 in /usr/local/lib/python3.7/dist-packages (from tensorboard~=2.5->tensorflow->deepbrain) (0.6.1)\n",
            "Requirement already satisfied: werkzeug>=0.11.15 in /usr/local/lib/python3.7/dist-packages (from tensorboard~=2.5->tensorflow->deepbrain) (1.0.1)\n",
            "Requirement already satisfied: google-auth-oauthlib<0.5,>=0.4.1 in /usr/local/lib/python3.7/dist-packages (from tensorboard~=2.5->tensorflow->deepbrain) (0.4.4)\n",
            "Requirement already satisfied: google-auth<2,>=1.6.3 in /usr/local/lib/python3.7/dist-packages (from tensorboard~=2.5->tensorflow->deepbrain) (1.31.0)\n",
            "Requirement already satisfied: tensorboard-plugin-wit>=1.6.0 in /usr/local/lib/python3.7/dist-packages (from tensorboard~=2.5->tensorflow->deepbrain) (1.8.0)\n",
            "Requirement already satisfied: setuptools>=41.0.0 in /usr/local/lib/python3.7/dist-packages (from tensorboard~=2.5->tensorflow->deepbrain) (57.0.0)\n",
            "Requirement already satisfied: urllib3!=1.25.0,!=1.25.1,<1.26,>=1.21.1 in /usr/local/lib/python3.7/dist-packages (from requests<3,>=2.21.0->tensorboard~=2.5->tensorflow->deepbrain) (1.24.3)\n",
            "Requirement already satisfied: chardet<4,>=3.0.2 in /usr/local/lib/python3.7/dist-packages (from requests<3,>=2.21.0->tensorboard~=2.5->tensorflow->deepbrain) (3.0.4)\n",
            "Requirement already satisfied: idna<3,>=2.5 in /usr/local/lib/python3.7/dist-packages (from requests<3,>=2.21.0->tensorboard~=2.5->tensorflow->deepbrain) (2.10)\n",
            "Requirement already satisfied: certifi>=2017.4.17 in /usr/local/lib/python3.7/dist-packages (from requests<3,>=2.21.0->tensorboard~=2.5->tensorflow->deepbrain) (2021.5.30)\n",
            "Requirement already satisfied: importlib-metadata; python_version < \"3.8\" in /usr/local/lib/python3.7/dist-packages (from markdown>=2.6.8->tensorboard~=2.5->tensorflow->deepbrain) (4.5.0)\n",
            "Requirement already satisfied: requests-oauthlib>=0.7.0 in /usr/local/lib/python3.7/dist-packages (from google-auth-oauthlib<0.5,>=0.4.1->tensorboard~=2.5->tensorflow->deepbrain) (1.3.0)\n",
            "Requirement already satisfied: pyasn1-modules>=0.2.1 in /usr/local/lib/python3.7/dist-packages (from google-auth<2,>=1.6.3->tensorboard~=2.5->tensorflow->deepbrain) (0.2.8)\n",
            "Requirement already satisfied: cachetools<5.0,>=2.0.0 in /usr/local/lib/python3.7/dist-packages (from google-auth<2,>=1.6.3->tensorboard~=2.5->tensorflow->deepbrain) (4.2.2)\n",
            "Requirement already satisfied: rsa<5,>=3.1.4; python_version >= \"3.6\" in /usr/local/lib/python3.7/dist-packages (from google-auth<2,>=1.6.3->tensorboard~=2.5->tensorflow->deepbrain) (4.7.2)\n",
            "Requirement already satisfied: zipp>=0.5 in /usr/local/lib/python3.7/dist-packages (from importlib-metadata; python_version < \"3.8\"->markdown>=2.6.8->tensorboard~=2.5->tensorflow->deepbrain) (3.4.1)\n",
            "Requirement already satisfied: oauthlib>=3.0.0 in /usr/local/lib/python3.7/dist-packages (from requests-oauthlib>=0.7.0->google-auth-oauthlib<0.5,>=0.4.1->tensorboard~=2.5->tensorflow->deepbrain) (3.1.1)\n",
            "Requirement already satisfied: pyasn1<0.5.0,>=0.4.6 in /usr/local/lib/python3.7/dist-packages (from pyasn1-modules>=0.2.1->google-auth<2,>=1.6.3->tensorboard~=2.5->tensorflow->deepbrain) (0.4.8)\n",
            "Installing collected packages: deepbrain\n",
            "Successfully installed deepbrain-0.1\n",
            "Collecting nilearn\n",
            "\u001b[?25l  Downloading https://files.pythonhosted.org/packages/c7/03/54010b2bbbf0e784ee11ca0d25bd644dba05e618d876f7fb8fdeb8eafaa0/nilearn-0.8.0-py3-none-any.whl (4.9MB)\n",
            "\u001b[K     |████████████████████████████████| 4.9MB 5.1MB/s \n",
            "\u001b[?25hRequirement already satisfied: requests>=2 in /usr/local/lib/python3.7/dist-packages (from nilearn) (2.23.0)\n",
            "Requirement already satisfied: pandas>=0.24.0 in /usr/local/lib/python3.7/dist-packages (from nilearn) (1.1.5)\n",
            "Requirement already satisfied: scikit-learn>=0.21 in /usr/local/lib/python3.7/dist-packages (from nilearn) (0.22.2.post1)\n",
            "Requirement already satisfied: joblib>=0.12 in /usr/local/lib/python3.7/dist-packages (from nilearn) (1.0.1)\n",
            "Requirement already satisfied: nibabel>=2.5 in /usr/local/lib/python3.7/dist-packages (from nilearn) (3.0.2)\n",
            "Requirement already satisfied: numpy>=1.16 in /usr/local/lib/python3.7/dist-packages (from nilearn) (1.19.5)\n",
            "Requirement already satisfied: scipy>=1.2 in /usr/local/lib/python3.7/dist-packages (from nilearn) (1.4.1)\n",
            "Requirement already satisfied: urllib3!=1.25.0,!=1.25.1,<1.26,>=1.21.1 in /usr/local/lib/python3.7/dist-packages (from requests>=2->nilearn) (1.24.3)\n",
            "Requirement already satisfied: certifi>=2017.4.17 in /usr/local/lib/python3.7/dist-packages (from requests>=2->nilearn) (2021.5.30)\n",
            "Requirement already satisfied: idna<3,>=2.5 in /usr/local/lib/python3.7/dist-packages (from requests>=2->nilearn) (2.10)\n",
            "Requirement already satisfied: chardet<4,>=3.0.2 in /usr/local/lib/python3.7/dist-packages (from requests>=2->nilearn) (3.0.4)\n",
            "Requirement already satisfied: python-dateutil>=2.7.3 in /usr/local/lib/python3.7/dist-packages (from pandas>=0.24.0->nilearn) (2.8.1)\n",
            "Requirement already satisfied: pytz>=2017.2 in /usr/local/lib/python3.7/dist-packages (from pandas>=0.24.0->nilearn) (2018.9)\n",
            "Requirement already satisfied: six>=1.5 in /usr/local/lib/python3.7/dist-packages (from python-dateutil>=2.7.3->pandas>=0.24.0->nilearn) (1.15.0)\n",
            "Installing collected packages: nilearn\n",
            "Successfully installed nilearn-0.8.0\n",
            "Uninstalling opencv-python-4.1.2.30:\n",
            "  Would remove:\n",
            "    /usr/local/lib/python3.7/dist-packages/cv2/*\n",
            "    /usr/local/lib/python3.7/dist-packages/opencv_python-4.1.2.30.dist-info/*\n",
            "Proceed (y/n)? y\n",
            "  Successfully uninstalled opencv-python-4.1.2.30\n",
            "Collecting opencv-contrib-python\n",
            "\u001b[?25l  Downloading https://files.pythonhosted.org/packages/27/f5/21227eb87cd5990a0f4235d8264db7d8f62f6a9ccbf2cd2c367f7d903cd2/opencv_contrib_python-4.5.2.54-cp37-cp37m-manylinux2014_x86_64.whl (57.4MB)\n",
            "\u001b[K     |████████████████████████████████| 57.4MB 51kB/s \n",
            "\u001b[?25hRequirement already satisfied, skipping upgrade: numpy>=1.14.5 in /usr/local/lib/python3.7/dist-packages (from opencv-contrib-python) (1.19.5)\n",
            "Installing collected packages: opencv-contrib-python\n",
            "  Found existing installation: opencv-contrib-python 4.1.2.30\n",
            "    Uninstalling opencv-contrib-python-4.1.2.30:\n",
            "      Successfully uninstalled opencv-contrib-python-4.1.2.30\n",
            "Successfully installed opencv-contrib-python-4.5.2.54\n"
          ],
          "name": "stdout"
        }
      ]
    },
    {
      "cell_type": "markdown",
      "metadata": {
        "id": "HLGM7YUeov-Y"
      },
      "source": [
        "##Imports"
      ]
    },
    {
      "cell_type": "code",
      "metadata": {
        "colab": {
          "base_uri": "https://localhost:8080/"
        },
        "id": "kAVw5xopo1nA",
        "outputId": "4a671d3a-d23f-4bd4-99fa-feabc68e5a06"
      },
      "source": [
        "import numpy as np\n",
        "import os\n",
        "import PIL\n",
        "import PIL.Image\n",
        "import matplotlib.pyplot as plt\n",
        "#from nilearn import plotting\n",
        "import imutils\n",
        "import cv2\n",
        "from matplotlib import pyplot as plt\n",
        "import os\n",
        "import numpy as np\n",
        "import imutils\n",
        "from nilearn import plotting\n",
        "import nibabel as nib\n",
        "import matplotlib.pyplot as plt\n",
        "import numpy as np\n",
        "import scipy.ndimage as ndimage\n",
        "import scipy\n",
        "import nibabel as nib\n",
        "from deepbrain import Extractor\n",
        "import matplotlib.pyplot as plt\n",
        "import shutil\n",
        "import sys\n",
        "import random\n",
        "import cv2\n",
        "from torchvision import transforms"
      ],
      "execution_count": null,
      "outputs": [
        {
          "output_type": "stream",
          "text": [
            "/usr/local/lib/python3.7/dist-packages/nilearn/datasets/__init__.py:89: FutureWarning: Fetchers from the nilearn.datasets module will be updated in version 0.9 to return python strings instead of bytes and Pandas dataframes instead of Numpy arrays.\n",
            "  \"Numpy arrays.\", FutureWarning)\n"
          ],
          "name": "stderr"
        }
      ]
    },
    {
      "cell_type": "markdown",
      "metadata": {
        "id": "0Qs67wLao56K"
      },
      "source": [
        "##PreProcessing"
      ]
    },
    {
      "cell_type": "markdown",
      "metadata": {
        "id": "ROgn_MxEpIEP"
      },
      "source": [
        "Mounting Google Drive"
      ]
    },
    {
      "cell_type": "code",
      "metadata": {
        "colab": {
          "base_uri": "https://localhost:8080/"
        },
        "id": "iShjxxYhpMN9",
        "outputId": "fa398526-2df1-438e-b124-a702fbc16323"
      },
      "source": [
        "from google.colab import drive\n",
        "drive.mount('/content/drive')"
      ],
      "execution_count": null,
      "outputs": [
        {
          "output_type": "stream",
          "text": [
            "Mounted at /content/drive\n"
          ],
          "name": "stdout"
        }
      ]
    },
    {
      "cell_type": "markdown",
      "metadata": {
        "id": "NG1KtSA6pWM1"
      },
      "source": [
        "Skull Stripping using Extractor"
      ]
    },
    {
      "cell_type": "code",
      "metadata": {
        "colab": {
          "base_uri": "https://localhost:8080/"
        },
        "id": "yyj86ZWJpVLv",
        "outputId": "f3ecb77e-b9c1-4eb6-e78e-82cb00e9350c"
      },
      "source": [
        "\n",
        "\n",
        "directory = '/content/drive/MyDrive/ADNI/EMCI'\n",
        "\n",
        "for filename in os.listdir(directory):\n",
        "  if filename.endswith(\".nii\"): \n",
        "    img_path=directory+\"/\"+filename\n",
        "    # Load a nifti as 3d numpy image [H, W, D]\n",
        "    img = nib.load(img_path).get_fdata()\n",
        "\n",
        "    ext = Extractor()\n",
        "\n",
        "    # `prob` will be a 3d numpy image containing probability \n",
        "    # of being brain tissue for each of the voxels in `img`\n",
        "    prob = ext.run(img) \n",
        "\n",
        "    # mask can be obtained as:\n",
        "    mask = prob > 0.5\n",
        "\n",
        "    img=np.where(mask, img, 0)\n",
        "    new_image = nib.Nifti1Image(img, affine=np.eye(4))\n",
        "    new_image.get_data_dtype() == np.dtype(np.int16)\n",
        "    print(\"Brain Extracted for image:\",os.path.join(directory, filename))\n",
        "    nib.save(new_image, os.path.join(directory, filename))  \n",
        "    continue\n",
        "  else:\n",
        "    continue"
      ],
      "execution_count": null,
      "outputs": [
        {
          "output_type": "stream",
          "text": [
            "Brain Extracted for image: /content/drive/MyDrive/ADNI/EMCI/ADNI_013_S_2324_MR_MPRAGE_br_raw_20110628170516462_158_S112893_I242257.nii\n",
            "Brain Extracted for image: /content/drive/MyDrive/ADNI/EMCI/ADNI_019_S_4285_MR_MPRAGE_SENSE2__br_raw_20120501093327796_121_S148758_I301216.nii\n",
            "Brain Extracted for image: /content/drive/MyDrive/ADNI/EMCI/ADNI_002_S_4799_MR_MPRAGE_SENSE2__br_raw_20140707110711904_4_S224278_I434497.nii\n",
            "Brain Extracted for image: /content/drive/MyDrive/ADNI/EMCI/ADNI_018_S_4868_MR_MPRAGE_SENSE2__br_raw_20130222123014808_144_S181883_I358607.nii\n",
            "Brain Extracted for image: /content/drive/MyDrive/ADNI/EMCI/ADNI_012_S_4012_MR_MPRAGE_br_raw_20110721104840784_60_S115587_I246031.nii\n",
            "Brain Extracted for image: /content/drive/MyDrive/ADNI/EMCI/ADNI_018_S_2133_MR_MPRAGE_SENSE2__br_raw_20110824142736515_36_S120229_I252607.nii\n",
            "Brain Extracted for image: /content/drive/MyDrive/ADNI/EMCI/ADNI_009_S_2208_MR_MPRAGE_GRAPPA2_br_raw_20131226164150156_128_S209449_I403616.nii\n",
            "Brain Extracted for image: /content/drive/MyDrive/ADNI/EMCI/ADNI_018_S_2155_MR_MPRAGE_br_raw_20101202154841190_48_S95705_I207345.nii\n",
            "Brain Extracted for image: /content/drive/MyDrive/ADNI/EMCI/ADNI_012_S_4188_MR_MPRAGE_br_raw_20111223101732340_1_S134871_I274432.nii\n",
            "Brain Extracted for image: /content/drive/MyDrive/ADNI/EMCI/ADNI_018_S_2133_MR_MPRAGE_br_raw_20141209151155163_45_S242677_I460914.nii\n",
            "Brain Extracted for image: /content/drive/MyDrive/ADNI/EMCI/ADNI_011_S_4893_MR_MPRAGE_GRAPPA2_br_raw_20121210133743755_110_S176900_I350329.nii\n",
            "Brain Extracted for image: /content/drive/MyDrive/ADNI/EMCI/ADNI_012_S_4012_MR_MPRAGE_SENSE2__br_raw_20110419131913632_95_S104667_I228226.nii\n",
            "Brain Extracted for image: /content/drive/MyDrive/ADNI/EMCI/ADNI_011_S_2274_MR_MPRAGE_GRAPPA2_br_raw_20150206102253855_72_S247852_I472318.nii\n",
            "Brain Extracted for image: /content/drive/MyDrive/ADNI/EMCI/ADNI_013_S_4268_MR_Accelerated_Sagittal_MPRAGE__br_raw_20181120173927298_35_S749099_I1075339.nii\n",
            "Brain Extracted for image: /content/drive/MyDrive/ADNI/EMCI/ADNI_018_S_4809_MR_MPRAGE_SENSE2__br_raw_20130108153209471_8_S179410_I353990.nii\n",
            "Brain Extracted for image: /content/drive/MyDrive/ADNI/EMCI/ADNI_011_S_4893_MR_MPRAGE_GRAPPA2_br_raw_20120911091504537_93_S166793_I332726.nii\n",
            "Brain Extracted for image: /content/drive/MyDrive/ADNI/EMCI/ADNI_002_S_2073_MR_MPRAGE_br_raw_20161003151730276_64_S503312_I780967.nii\n",
            "Brain Extracted for image: /content/drive/MyDrive/ADNI/EMCI/ADNI_014_S_2185_MR_MPRAGE_br_raw_20120117093237688_94_S136469_I277934.nii\n",
            "Brain Extracted for image: /content/drive/MyDrive/ADNI/EMCI/ADNI_009_S_5000_MR_MPRAGE_br_raw_20121029123817307_100_S172474_I342850.nii\n",
            "Brain Extracted for image: /content/drive/MyDrive/ADNI/EMCI/ADNI_012_S_4987_MR_MPRAGE_SENSE2__br_raw_20130402162703680_1_S182928_I361025.nii\n",
            "Brain Extracted for image: /content/drive/MyDrive/ADNI/EMCI/ADNI_013_S_4917_MR_MPRAGE_SENSE2__br_raw_20130325105042204_79_S185136_I364282.nii\n",
            "Brain Extracted for image: /content/drive/MyDrive/ADNI/EMCI/ADNI_018_S_2133_MR_MPRAGE_br_raw_20120124152407639_20_S138311_I280329.nii\n",
            "Brain Extracted for image: /content/drive/MyDrive/ADNI/EMCI/ADNI_011_S_4893_MR_MPRAGE_br_raw_20121210133737505_2_S176894_I350320.nii\n",
            "Brain Extracted for image: /content/drive/MyDrive/ADNI/EMCI/ADNI_018_S_2133_MR_MPRAGE_SENSE2__br_raw_20110323105132610_46_S102176_I224642.nii\n",
            "Brain Extracted for image: /content/drive/MyDrive/ADNI/EMCI/ADNI_002_S_2010_MR_MPRAGE_br_raw_20120712104444852_76_S157398_I316042.nii\n",
            "Brain Extracted for image: /content/drive/MyDrive/ADNI/EMCI/ADNI_013_S_4917_MR_MPRAGE_SENSE2__br_raw_20121126122914723_21_S175386_I347722.nii\n",
            "Brain Extracted for image: /content/drive/MyDrive/ADNI/EMCI/ADNI_002_S_4447_MR_MPRAGE_SENSE2__br_raw_20130227105135077_155_S183258_I361432.nii\n",
            "Brain Extracted for image: /content/drive/MyDrive/ADNI/EMCI/ADNI_009_S_4814_MR_MPRAGE_GRAPPA2_br_raw_20130212024130390_101_S181973_I358719.nii\n",
            "Brain Extracted for image: /content/drive/MyDrive/ADNI/EMCI/ADNI_002_S_2073_MR_MPRAGE_br_raw_20110309121608151_65_S101317_I223325.nii\n",
            "Brain Extracted for image: /content/drive/MyDrive/ADNI/EMCI/ADNI_018_S_2138_MR_MPRAGE_SENSE2__br_raw_20101104140400631_155_S94228_I202424.nii\n",
            "Brain Extracted for image: /content/drive/MyDrive/ADNI/EMCI/ADNI_013_S_2389_MR_MPRAGE_SENSE2__br_raw_20120224120103186_52_S141702_I286424.nii\n",
            "Brain Extracted for image: /content/drive/MyDrive/ADNI/EMCI/ADNI_014_S_2308_MR_MPRAGE_br_raw_20160505171526585_155_S434458_I700116.nii\n",
            "Brain Extracted for image: /content/drive/MyDrive/ADNI/EMCI/ADNI_013_S_4791_MR_MPRAGE_SENSE2__br_raw_20121001114851133_98_S169166_I337375.nii\n",
            "Brain Extracted for image: /content/drive/MyDrive/ADNI/EMCI/ADNI_014_S_2308_MR_Accelerated_Sagittal_MPRAGE_ND_br_raw_20190806143730172_82_S847751_I1195515.nii\n",
            "Brain Extracted for image: /content/drive/MyDrive/ADNI/EMCI/ADNI_018_S_4868_MR_MPRAGE_SENSE2__br_raw_20121114143706250_63_S174546_I346595.nii\n",
            "Brain Extracted for image: /content/drive/MyDrive/ADNI/EMCI/ADNI_009_S_2381_MR_MPRAGE_br_raw_20111211132057265_139_S132603_I271115.nii\n",
            "Brain Extracted for image: /content/drive/MyDrive/ADNI/EMCI/ADNI_009_S_2381_MR_MPRAGE_br_raw_20150702181827223_26_S264681_I499375.nii\n",
            "Brain Extracted for image: /content/drive/MyDrive/ADNI/EMCI/ADNI_014_S_2185_MR_MPRAGE_GRAPPA2_br_raw_20110707133300455_161_S113897_I243697.nii\n",
            "Brain Extracted for image: /content/drive/MyDrive/ADNI/EMCI/ADNI_002_S_4447_MR_MPRAGE_SENSE2__br_raw_20140214133439344_123_S212662_I414386.nii\n",
            "Brain Extracted for image: /content/drive/MyDrive/ADNI/EMCI/ADNI_018_S_2180_MR_MPRAGE_br_raw_20110801101925739_36_S116858_I247861.nii\n",
            "Brain Extracted for image: /content/drive/MyDrive/ADNI/EMCI/ADNI_002_S_2073_MR_MPRAGE_br_raw_20131001165437151_102_S202807_I393002.nii\n",
            "Brain Extracted for image: /content/drive/MyDrive/ADNI/EMCI/ADNI_002_S_4237_MR_MPRAGE_SENSE2__br_raw_20131022151005162_91_S204610_I395569.nii\n",
            "Brain Extracted for image: /content/drive/MyDrive/ADNI/EMCI/ADNI_018_S_4868_MR_MPRAGE_br_raw_20120730094642654_77_S158867_I319536.nii\n",
            "Brain Extracted for image: /content/drive/MyDrive/ADNI/EMCI/ADNI_019_S_4285_MR_MPRAGE_SENSE2__br_raw_20120111115212348_41_S136001_I277294.nii\n",
            "Brain Extracted for image: /content/drive/MyDrive/ADNI/EMCI/ADNI_009_S_2208_MR_MPRAGE_GRAPPA2_br_raw_20130111152127997_52_S180082_I354897.nii\n",
            "Brain Extracted for image: /content/drive/MyDrive/ADNI/EMCI/ADNI_018_S_4868_MR_MPRAGE_SENSE2__br_raw_20120730094723586_81_S158869_I319538.nii\n",
            "Brain Extracted for image: /content/drive/MyDrive/ADNI/EMCI/ADNI_011_S_4547_MR_MPRAGE_br_raw_20120229160234880_69_S142132_I287212.nii\n",
            "Brain Extracted for image: /content/drive/MyDrive/ADNI/EMCI/ADNI_018_S_2133_MR_MPRAGE_SENSE2__br_raw_20141209151243182_62_S242682_I460919.nii\n",
            "Brain Extracted for image: /content/drive/MyDrive/ADNI/EMCI/ADNI_011_S_4235_MR_MPRAGE_br_raw_20121012095216181_77_S170649_I339811.nii\n",
            "Brain Extracted for image: /content/drive/MyDrive/ADNI/EMCI/ADNI_019_S_4285_MR_MPRAGE_SENSE2__br_raw_20111014130241436_69_S125300_I260907.nii\n",
            "Brain Extracted for image: /content/drive/MyDrive/ADNI/EMCI/ADNI_018_S_4597_MR_MPRAGE_SENSE2__br_raw_20130311150126348_51_S184057_I362532.nii\n",
            "Brain Extracted for image: /content/drive/MyDrive/ADNI/EMCI/ADNI_012_S_4128_MR_MPRAGE_SENSE2__br_raw_20120829140814752_1_S163099_I327014.nii\n",
            "Brain Extracted for image: /content/drive/MyDrive/ADNI/EMCI/ADNI_006_S_4679_MR_MPRAGE_br_raw_20140627094219670_89_S223088_I433039.nii\n",
            "Brain Extracted for image: /content/drive/MyDrive/ADNI/EMCI/ADNI_002_S_2010_MR_MPRAGE_SENSE2__br_raw_20130719093356502_149_S195695_I381532.nii\n",
            "Brain Extracted for image: /content/drive/MyDrive/ADNI/EMCI/ADNI_009_S_4530_MR_MPRAGE_br_raw_20130411110756907_142_S186658_I366472.nii\n",
            "Brain Extracted for image: /content/drive/MyDrive/ADNI/EMCI/ADNI_009_S_4958_MR_MPRAGE_br_raw_20121004143625981_153_S169629_I338115.nii\n",
            "Brain Extracted for image: /content/drive/MyDrive/ADNI/EMCI/ADNI_009_S_2381_MR_MPRAGE_br_raw_20130624101821984_110_S193111_I377796.nii\n",
            "Brain Extracted for image: /content/drive/MyDrive/ADNI/EMCI/ADNI_018_S_2180_MR_MPRAGE_br_raw_20130103084811380_98_S178757_I353099.nii\n",
            "Brain Extracted for image: /content/drive/MyDrive/ADNI/EMCI/ADNI_014_S_2308_MR_MPRAGE_br_raw_20110519133133861_41_S109418_I235812.nii\n",
            "Brain Extracted for image: /content/drive/MyDrive/ADNI/EMCI/ADNI_012_S_4188_MR_MPRAGE_br_raw_20120504145947942_1_S149177_I301833.nii\n",
            "Brain Extracted for image: /content/drive/MyDrive/ADNI/EMCI/ADNI_018_S_4809_MR_MPRAGE_SENSE2__br_raw_20120622131411028_101_S154967_I311913.nii\n",
            "Brain Extracted for image: /content/drive/MyDrive/ADNI/EMCI/ADNI_011_S_4235_MR_MPRAGE_GRAPPA2_br_raw_20110926120935586_27_S123394_I258003.nii\n",
            "Brain Extracted for image: /content/drive/MyDrive/ADNI/EMCI/ADNI_011_S_4547_MR_MPRAGE_br_raw_20140305133304827_151_S213631_I415936.nii\n",
            "Brain Extracted for image: /content/drive/MyDrive/ADNI/EMCI/ADNI_018_S_2155_MR_MPRAGE_SENSE2__br_raw_20131203174417185_23_S206970_I399919.nii\n",
            "Brain Extracted for image: /content/drive/MyDrive/ADNI/EMCI/ADNI_014_S_2308_MR_MPRAGE_br_raw_20140515143850458_145_S218674_I424878.nii\n",
            "Brain Extracted for image: /content/drive/MyDrive/ADNI/EMCI/ADNI_007_S_4272_MR_Accelerated_Sagittal_MPRAGE__br_raw_20180117093312547_54_S650645_I953859.nii\n",
            "Brain Extracted for image: /content/drive/MyDrive/ADNI/EMCI/ADNI_012_S_4012_MR_MPRAGE_ADNI-GO_br_raw_20110419131853632_84_S104670_I228229.nii\n",
            "Brain Extracted for image: /content/drive/MyDrive/ADNI/EMCI/ADNI_009_S_2208_MR_MPRAGE_br_raw_20110629142150903_124_S113001_I242407.nii\n",
            "Brain Extracted for image: /content/drive/MyDrive/ADNI/EMCI/ADNI_002_S_4447_MR_MPRAGE_br_raw_20120424113908882_25_S148198_I300242.nii\n",
            "Brain Extracted for image: /content/drive/MyDrive/ADNI/EMCI/ADNI_018_S_2133_MR_MPRAGE_SENSE2__br_raw_20121220112023254_161_S178288_I352436.nii\n",
            "Brain Extracted for image: /content/drive/MyDrive/ADNI/EMCI/ADNI_011_S_4235_MR_MPRAGE_GRAPPA2_br_raw_20120412145623395_73_S147084_I297202.nii\n",
            "Brain Extracted for image: /content/drive/MyDrive/ADNI/EMCI/ADNI_002_S_2010_MR_MPRAGE_SENSE2__br_raw_20101022214905368_69_S93647_I199142.nii\n",
            "Brain Extracted for image: /content/drive/MyDrive/ADNI/EMCI/ADNI_019_S_4285_MR_MPRAGE_SENSE2__br_raw_20121024084149138_96_S171858_I341861.nii\n",
            "Brain Extracted for image: /content/drive/MyDrive/ADNI/EMCI/ADNI_022_S_2087_MR_MPRAGE_GRAPPA2_br_raw_20121105103809675_54_S173191_I343808.nii\n",
            "Brain Extracted for image: /content/drive/MyDrive/ADNI/EMCI/ADNI_012_S_4128_MR_MPRAGE_br_raw_20120829140805926_1_S163094_I327009.nii\n",
            "Brain Extracted for image: /content/drive/MyDrive/ADNI/EMCI/ADNI_012_S_4987_MR_MPRAGE_SENSE2__br_raw_20131113122302106_1_S205981_I398105.nii\n",
            "Brain Extracted for image: /content/drive/MyDrive/ADNI/EMCI/ADNI_007_S_2394_MR_Accelerated_Sagittal_MPRAGE__br_raw_20170824113105934_133_S600316_I894263.nii\n",
            "Brain Extracted for image: /content/drive/MyDrive/ADNI/EMCI/ADNI_011_S_4235_MR_MPRAGE_GRAPPA2_br_raw_20131003162215969_67_S202971_I393231.nii\n",
            "Brain Extracted for image: /content/drive/MyDrive/ADNI/EMCI/ADNI_002_S_2010_MR_MPRAGE_SENSE2__br_raw_20100625000710501_145_S88108_I180305.nii\n",
            "Brain Extracted for image: /content/drive/MyDrive/ADNI/EMCI/ADNI_014_S_4328_MR_MPRAGE_br_raw_20111108075553716_156_S128286_I265074.nii\n",
            "Brain Extracted for image: /content/drive/MyDrive/ADNI/EMCI/ADNI_013_S_4268_MR_MPRAGE_ND__br_raw_20131121105143678_53_S206390_I398985.nii\n",
            "Brain Extracted for image: /content/drive/MyDrive/ADNI/EMCI/ADNI_012_S_4987_MR_MPRAGE_SENSE2__br_raw_20130517121202842_1_S189769_I372820.nii\n",
            "Brain Extracted for image: /content/drive/MyDrive/ADNI/EMCI/ADNI_002_S_2043_MR_MPRAGE_br_raw_20100901071618763_8_S91525_I191821.nii\n",
            "Brain Extracted for image: /content/drive/MyDrive/ADNI/EMCI/ADNI_011_S_4235_MR_MPRAGE_GRAPPA2_br_raw_20121012095207666_129_S170654_I339816.nii\n",
            "Brain Extracted for image: /content/drive/MyDrive/ADNI/EMCI/ADNI_018_S_2180_MR_Sagittal_3D_Accelerated_MPRAGE_br_raw_20190927103723639_64_S878567_I1233694.nii\n",
            "Brain Extracted for image: /content/drive/MyDrive/ADNI/EMCI/ADNI_018_S_2133_MR_Sagittal_3D_Accelerated_MPRAGE_br_raw_20180111122109066_1_S649539_I952527.nii\n",
            "Brain Extracted for image: /content/drive/MyDrive/ADNI/EMCI/ADNI_012_S_4188_MR_MPRAGE_SENSE2__br_raw_20110909104142051_27_S121623_I255323.nii\n",
            "Brain Extracted for image: /content/drive/MyDrive/ADNI/EMCI/ADNI_018_S_2133_MR_MPRAGE_br_raw_20131218151313570_44_S208524_I402261.nii\n",
            "Brain Extracted for image: /content/drive/MyDrive/ADNI/EMCI/ADNI_002_S_4799_MR_MPRAGE_SENSE2__br_raw_20130702105915192_58_S193939_I379005.nii\n",
            "Brain Extracted for image: /content/drive/MyDrive/ADNI/EMCI/ADNI_018_S_2180_MR_MPRAGE_SENSE2__br_raw_20110801101957880_135_S116855_I247855.nii\n",
            "Brain Extracted for image: /content/drive/MyDrive/ADNI/EMCI/ADNI_011_S_4547_MR_MPRAGE_GRAPPA2_br_raw_20120524135206168_53_S151523_I306304.nii\n",
            "Brain Extracted for image: /content/drive/MyDrive/ADNI/EMCI/ADNI_011_S_2274_MR_MPRAGE_br_raw_20110204092059559_173_S98923_I215813.nii\n",
            "Brain Extracted for image: /content/drive/MyDrive/ADNI/EMCI/ADNI_014_S_4328_MR_MPRAGE_br_raw_20120209124728035_84_S140312_I283666.nii\n",
            "Brain Extracted for image: /content/drive/MyDrive/ADNI/EMCI/ADNI_018_S_4809_MR_MPRAGE_SENSE2__br_raw_20160715152752719_1_S484833_I758084.nii\n",
            "Brain Extracted for image: /content/drive/MyDrive/ADNI/EMCI/ADNI_018_S_2155_MR_Sagittal_3D_Accelerated_MPRAGE_br_raw_20170920104318181_1_S610070_I905773.nii\n",
            "Brain Extracted for image: /content/drive/MyDrive/ADNI/EMCI/ADNI_014_S_2308_MR_MPRAGE_GRAPPA2_br_raw_20110519133118331_30_S109416_I235810.nii\n",
            "Brain Extracted for image: /content/drive/MyDrive/ADNI/EMCI/ADNI_009_S_4958_MR_MPRAGE_br_raw_20130104165942509_135_S178890_I353300.nii\n",
            "Brain Extracted for image: /content/drive/MyDrive/ADNI/EMCI/ADNI_014_S_4068_MR_MPRAGE_GRAPPA2_br_raw_20110610082631697_77_S111192_I239639.nii\n",
            "Brain Extracted for image: /content/drive/MyDrive/ADNI/EMCI/ADNI_022_S_2167_MR_MPRAGE_br_raw_20110309122224333_98_S101294_I223275.nii\n",
            "Brain Extracted for image: /content/drive/MyDrive/ADNI/EMCI/ADNI_006_S_4679_MR_MPRAGE_br_raw_20120601112747596_52_S152426_I307551.nii\n",
            "Brain Extracted for image: /content/drive/MyDrive/ADNI/EMCI/ADNI_018_S_4868_MR_MPRAGE_br_raw_20121114143447361_109_S174540_I346587.nii\n",
            "Brain Extracted for image: /content/drive/MyDrive/ADNI/EMCI/ADNI_009_S_4530_MR_MPRAGE_GRAPPA2_br_raw_20120517082336589_95_S150895_I305045.nii\n",
            "Brain Extracted for image: /content/drive/MyDrive/ADNI/EMCI/ADNI_012_S_4188_MR_MPRAGE_br_raw_20120925174040546_1_S168714_I336738.nii\n",
            "Brain Extracted for image: /content/drive/MyDrive/ADNI/EMCI/ADNI_018_S_4868_MR_Sagittal_3D_Accelerated_MPRAGE_br_raw_20180726114914594_1_S708860_I1026374.nii\n",
            "Brain Extracted for image: /content/drive/MyDrive/ADNI/EMCI/ADNI_002_S_4237_MR_MPRAGE_br_raw_20110927140824538_5_S123709_I258443.nii\n",
            "Brain Extracted for image: /content/drive/MyDrive/ADNI/EMCI/ADNI_009_S_2208_MR_MPRAGE_GRAPPA2_br_raw_20141206130714989_119_S242514_I460703.nii\n",
            "Brain Extracted for image: /content/drive/MyDrive/ADNI/EMCI/ADNI_012_S_4012_MR_MPRAGE_SENSE2__br_raw_20130517162635343_1_S189871_I372939.nii\n",
            "Brain Extracted for image: /content/drive/MyDrive/ADNI/EMCI/ADNI_012_S_4849_MR_MPRAGE_SENSE2__br_raw_20130304160743785_1_S183652_I361977.nii\n",
            "Brain Extracted for image: /content/drive/MyDrive/ADNI/EMCI/ADNI_002_S_4447_MR_MPRAGE_br_raw_20120117220923514_62_S137139_I278815.nii\n",
            "Brain Extracted for image: /content/drive/MyDrive/ADNI/EMCI/ADNI_018_S_2133_MR_MPRAGE_br_raw_20110824142729921_126_S120223_I252599.nii\n",
            "Brain Extracted for image: /content/drive/MyDrive/ADNI/EMCI/ADNI_007_S_2394_MR_Accelerated_Sagittal_MPRAGE_L__R_br_raw_20180820104905857_118_S718450_I1037904.nii\n",
            "Brain Extracted for image: /content/drive/MyDrive/ADNI/EMCI/ADNI_018_S_2180_MR_MPRAGE_br_raw_20160316145119984_1_S396250_I655394.nii\n",
            "Brain Extracted for image: /content/drive/MyDrive/ADNI/EMCI/ADNI_012_S_4849_MR_MPRAGE_SENSE2__br_raw_20130613140407968_1_S192307_I376488.nii\n",
            "Brain Extracted for image: /content/drive/MyDrive/ADNI/EMCI/ADNI_007_S_4272_MR_Accelerated_Sagittal_MPRAGE__br_raw_20210225131221192_29_S1002707_I1414921.nii\n",
            "Brain Extracted for image: /content/drive/MyDrive/ADNI/EMCI/ADNI_011_S_4547_MR_MPRAGE_GRAPPA2_br_raw_20120913123230770_134_S167359_I333894.nii\n",
            "Brain Extracted for image: /content/drive/MyDrive/ADNI/EMCI/ADNI_009_S_4958_MR_MPRAGE_GRAPPA2_br_raw_20131025094107061_53_S204848_I395911.nii\n",
            "Brain Extracted for image: /content/drive/MyDrive/ADNI/EMCI/ADNI_013_S_2389_MR_MPRAGE_SENSE2__br_raw_20110920161627221_44_S122815_I257105.nii\n",
            "Brain Extracted for image: /content/drive/MyDrive/ADNI/EMCI/ADNI_018_S_2138_MR_MPRAGE_br_raw_20101104140230661_81_S94232_I202429.nii\n",
            "Brain Extracted for image: /content/drive/MyDrive/ADNI/EMCI/ADNI_009_S_2208_MR_MPRAGE_br_raw_20101202202402489_6_S95723_I207373.nii\n",
            "Brain Extracted for image: /content/drive/MyDrive/ADNI/EMCI/ADNI_002_S_4473_MR_MPRAGE_SENSE2__br_raw_20160311133413230_50_S392712_I651401.nii\n",
            "Brain Extracted for image: /content/drive/MyDrive/ADNI/EMCI/ADNI_002_S_2073_MR_MPRAGE_SENSE2__br_raw_20131001165806437_80_S202808_I393003.nii\n",
            "Brain Extracted for image: /content/drive/MyDrive/ADNI/EMCI/ADNI_002_S_2010_MR_MPRAGE_SENSE2__br_raw_20110122171417192_48_S98070_I213881.nii\n",
            "Brain Extracted for image: /content/drive/MyDrive/ADNI/EMCI/ADNI_002_S_4473_MR_Accelerated_Sagittal_MPRAGE__br_raw_20170308101357987_117_S543826_I827361.nii\n",
            "Brain Extracted for image: /content/drive/MyDrive/ADNI/EMCI/ADNI_018_S_2180_MR_MPRAGE_SENSE2__br_raw_20120127151054800_100_S138692_I281034.nii\n",
            "Brain Extracted for image: /content/drive/MyDrive/ADNI/EMCI/ADNI_006_S_4679_MR_MPRAGE_SENSE2__br_raw_20121207164851951_151_S176761_I350114.nii\n",
            "Brain Extracted for image: /content/drive/MyDrive/ADNI/EMCI/ADNI_011_S_4235_MR_MPRAGE_GRAPPA2_br_raw_20150923153229795_75_S278270_I516648.nii\n",
            "Brain Extracted for image: /content/drive/MyDrive/ADNI/EMCI/ADNI_002_S_2073_MR_MPRAGE_br_raw_20100908060239351_35_S91784_I192256.nii\n",
            "Brain Extracted for image: /content/drive/MyDrive/ADNI/EMCI/ADNI_011_S_2274_MR_MPRAGE_GRAPPA2_br_raw_20120217102743782_161_S141084_I285349.nii\n",
            "Brain Extracted for image: /content/drive/MyDrive/ADNI/EMCI/ADNI_019_S_4285_MR_MPRAGE_br_raw_20111014130330826_9_S125304_I260913.nii\n",
            "Brain Extracted for image: /content/drive/MyDrive/ADNI/EMCI/ADNI_014_S_2185_MR_MPRAGE_br_raw_20110328122644760_71_S102445_I225021.nii\n",
            "Brain Extracted for image: /content/drive/MyDrive/ADNI/EMCI/ADNI_013_S_2389_MR_Accelerated_Sagittal_MPRAGE__br_raw_20171205122525970_30_S641574_I942682.nii\n",
            "Brain Extracted for image: /content/drive/MyDrive/ADNI/EMCI/ADNI_018_S_2133_MR_MPRAGE_SENSE2__br_raw_20131218151533760_23_S208525_I402264.nii\n",
            "Brain Extracted for image: /content/drive/MyDrive/ADNI/EMCI/ADNI_018_S_4809_MR_MPRAGE_br_raw_20121005131353891_95_S169761_I338288.nii\n",
            "Brain Extracted for image: /content/drive/MyDrive/ADNI/EMCI/ADNI_007_S_4272_MR_Accelerated_Sagittal_MPRAGE__br_raw_20200131143753556_132_S918082_I1283142.nii\n",
            "Brain Extracted for image: /content/drive/MyDrive/ADNI/EMCI/ADNI_002_S_4473_MR_MPRAGE_br_raw_20120824144743489_100_S162612_I326319.nii\n",
            "Brain Extracted for image: /content/drive/MyDrive/ADNI/EMCI/ADNI_019_S_4680_MR_MPRAGE_br_raw_20140417085205570_156_S216419_I420465.nii\n",
            "Brain Extracted for image: /content/drive/MyDrive/ADNI/EMCI/ADNI_012_S_4012_MR_MPRAGE_SENSE2__br_raw_20120529110924608_1_S151699_I306575.nii\n",
            "Brain Extracted for image: /content/drive/MyDrive/ADNI/EMCI/ADNI_002_S_2073_MR_MPRAGE_SENSE2__br_raw_20120206143857209_32_S123046_I257490.nii\n",
            "Brain Extracted for image: /content/drive/MyDrive/ADNI/EMCI/ADNI_013_S_4917_MR_MPRAGE_br_raw_20120910142432618_50_S165928_I330023.nii\n",
            "Brain Extracted for image: /content/drive/MyDrive/ADNI/EMCI/ADNI_018_S_4868_MR_MPRAGE_SENSE2__br_raw_20140731144413955_30_S226496_I437820.nii\n",
            "Brain Extracted for image: /content/drive/MyDrive/ADNI/EMCI/ADNI_011_S_4893_MR_MPRAGE_br_raw_20140522165016122_41_S219217_I425710.nii\n",
            "Brain Extracted for image: /content/drive/MyDrive/ADNI/EMCI/ADNI_014_S_2308_MR_Accelerated_Sagittal_MPRAGE__br_raw_20181108154056073_133_S745770_I1071185.nii\n",
            "Brain Extracted for image: /content/drive/MyDrive/ADNI/EMCI/ADNI_014_S_2185_MR_MPRAGE_GRAPPA2_br_raw_20120117093237938_95_S136468_I277932.nii\n",
            "Brain Extracted for image: /content/drive/MyDrive/ADNI/EMCI/ADNI_002_S_4237_MR_MPRAGE_br_raw_20121112134535561_157_S174278_I346227.nii\n",
            "Brain Extracted for image: /content/drive/MyDrive/ADNI/EMCI/ADNI_018_S_4809_MR_MPRAGE_SENSE2__br_raw_20140623111510924_129_S222749_I432167.nii\n",
            "Brain Extracted for image: /content/drive/MyDrive/ADNI/EMCI/ADNI_013_S_2389_MR_MPRAGE_br_raw_20110624150420867_166_S112355_I241411.nii\n",
            "Brain Extracted for image: /content/drive/MyDrive/ADNI/EMCI/ADNI_018_S_2180_MR_MPRAGE_br_raw_20110311135846540_165_S101471_I223651.nii\n",
            "Brain Extracted for image: /content/drive/MyDrive/ADNI/EMCI/ADNI_018_S_2180_MR_MPRAGE_SENSE2__br_raw_20130103084817546_106_S178752_I353092.nii\n",
            "Brain Extracted for image: /content/drive/MyDrive/ADNI/EMCI/ADNI_018_S_4809_MR_MPRAGE_br_raw_20140623111120103_80_S222751_I432170.nii\n",
            "Brain Extracted for image: /content/drive/MyDrive/ADNI/EMCI/ADNI_014_S_2185_MR_MPRAGE_GRAPPA2_br_raw_20101210100523853_100_S96209_I208098.nii\n",
            "Brain Extracted for image: /content/drive/MyDrive/ADNI/EMCI/ADNI_018_S_2155_MR_MPRAGE_br_raw_20110303150241719_130_S100803_I222168.nii\n",
            "Brain Extracted for image: /content/drive/MyDrive/ADNI/EMCI/ADNI_009_S_4958_MR_MPRAGE_GRAPPA2_br_raw_20130104170045618_63_S178883_I353289.nii\n",
            "Brain Extracted for image: /content/drive/MyDrive/ADNI/EMCI/ADNI_012_S_4188_MR_MPRAGE_SENSE2__br_raw_20120504150013113_1_S149180_I301836.nii\n",
            "Brain Extracted for image: /content/drive/MyDrive/ADNI/EMCI/ADNI_018_S_2155_MR_MPRAGE_br_raw_20121213153829959_154_S177568_I351334.nii\n",
            "Brain Extracted for image: /content/drive/MyDrive/ADNI/EMCI/ADNI_012_S_4849_MR_MPRAGE_SENSE2__br_raw_20130829114957023_1_S199613_I388040.nii\n",
            "Brain Extracted for image: /content/drive/MyDrive/ADNI/EMCI/ADNI_018_S_4868_MR_MPRAGE_SENSE2__br_raw_20130822133807470_54_S198846_I386891.nii\n",
            "Brain Extracted for image: /content/drive/MyDrive/ADNI/EMCI/ADNI_011_S_2274_MR_MPRAGE_br_raw_20110505140341975_54_S108102_I233439.nii\n",
            "Brain Extracted for image: /content/drive/MyDrive/ADNI/EMCI/ADNI_019_S_4285_MR_MPRAGE_br_raw_20120501092733099_31_S148756_I301214.nii\n",
            "Brain Extracted for image: /content/drive/MyDrive/ADNI/EMCI/ADNI_002_S_2043_MR_MPRAGE_br_raw_20110917104413817_112_S122477_I256637.nii\n",
            "Brain Extracted for image: /content/drive/MyDrive/ADNI/EMCI/ADNI_014_S_2308_MR_Accelerated_Sagittal_MPRAGE__br_raw_20190806143731289_123_S847750_I1195514.nii\n",
            "Brain Extracted for image: /content/drive/MyDrive/ADNI/EMCI/ADNI_018_S_4809_MR_MPRAGE_SENSE2__br_raw_20121005131401292_157_S169757_I338283.nii\n",
            "Brain Extracted for image: /content/drive/MyDrive/ADNI/EMCI/ADNI_014_S_4328_MR_MPRAGE_GRAPPA2_br_raw_20120209124730254_142_S140309_I283663.nii\n",
            "Brain Extracted for image: /content/drive/MyDrive/ADNI/EMCI/ADNI_009_S_5000_MR_MPRAGE_GRAPPA2_br_raw_20131126005140254_152_S206775_I399550.nii\n",
            "Brain Extracted for image: /content/drive/MyDrive/ADNI/EMCI/ADNI_019_S_4680_MR_MPRAGE_SENSE2__br_raw_20120425161839430_92_S148320_I300527.nii\n",
            "Brain Extracted for image: /content/drive/MyDrive/ADNI/EMCI/ADNI_002_S_4799_MR_Accelerated_Sagittal_MPRAGE__br_raw_20191223111218215_11_S907801_I1270052.nii\n",
            "Brain Extracted for image: /content/drive/MyDrive/ADNI/EMCI/ADNI_014_S_2308_MR_MPRAGE_br_raw_20120322123706174_171_S144486_I291647.nii\n",
            "Brain Extracted for image: /content/drive/MyDrive/ADNI/EMCI/ADNI_011_S_4547_MR_MPRAGE_GRAPPA2_br_raw_20120229160238926_86_S142128_I287208.nii\n",
            "Brain Extracted for image: /content/drive/MyDrive/ADNI/EMCI/ADNI_011_S_4235_MR_MPRAGE_br_raw_20120412145620911_129_S147089_I297208.nii\n",
            "Brain Extracted for image: /content/drive/MyDrive/ADNI/EMCI/ADNI_018_S_2133_MR_MPRAGE_br_raw_20121220112015865_25_S178284_I352430.nii\n",
            "Brain Extracted for image: /content/drive/MyDrive/ADNI/EMCI/ADNI_014_S_4328_MR_MPRAGE_br_raw_20131125153447997_98_S206748_I399509.nii\n",
            "Brain Extracted for image: /content/drive/MyDrive/ADNI/EMCI/ADNI_018_S_2155_MR_MPRAGE_SENSE2__br_raw_20110706150750927_105_S113704_I243441.nii\n",
            "Brain Extracted for image: /content/drive/MyDrive/ADNI/EMCI/ADNI_012_S_4849_MR_MPRAGE_br_raw_20130613140451464_1_S192305_I376486.nii\n",
            "Brain Extracted for image: /content/drive/MyDrive/ADNI/EMCI/ADNI_002_S_2073_MR_MPRAGE_br_raw_20140918102859556_165_S231273_I444158.nii\n",
            "Brain Extracted for image: /content/drive/MyDrive/ADNI/EMCI/ADNI_011_S_4893_MR_MPRAGE_GRAPPA2_br_raw_20140919140157090_69_S231384_I444296.nii\n",
            "Brain Extracted for image: /content/drive/MyDrive/ADNI/EMCI/ADNI_012_S_4128_MR_MPRAGE_br_raw_20120315131200234_1_S143921_I290437.nii\n",
            "Brain Extracted for image: /content/drive/MyDrive/ADNI/EMCI/ADNI_019_S_4680_MR_MPRAGE_br_raw_20121030145218294_65_S172697_I343144.nii\n",
            "Brain Extracted for image: /content/drive/MyDrive/ADNI/EMCI/ADNI_009_S_4530_MR_MPRAGE_br_raw_20120517082343431_164_S150893_I305043.nii\n",
            "Brain Extracted for image: /content/drive/MyDrive/ADNI/EMCI/ADNI_018_S_4597_MR_MPRAGE_SENSE2__br_raw_20120807143540945_152_S159770_I321926.nii\n",
            "Brain Extracted for image: /content/drive/MyDrive/ADNI/EMCI/ADNI_012_S_4012_MR_MPRAGE_SENSE2__br_raw_20110721104852206_168_S115582_I246024.nii\n",
            "Brain Extracted for image: /content/drive/MyDrive/ADNI/EMCI/ADNI_013_S_4268_MR_MPRAGE_GRAPPA_2_ND_br_raw_20131121105040788_146_S206389_I398984.nii\n",
            "Brain Extracted for image: /content/drive/MyDrive/ADNI/EMCI/ADNI_018_S_4809_MR_MPRAGE_br_raw_20120622131353105_107_S154963_I311905.nii\n",
            "Brain Extracted for image: /content/drive/MyDrive/ADNI/EMCI/ADNI_020_S_4619_MR_MPRAGE_GRAPPA2_br_raw_20120419073128360_59_S147626_I298384.nii\n",
            "Brain Extracted for image: /content/drive/MyDrive/ADNI/EMCI/ADNI_006_S_4679_MR_MPRAGE_SENSE2__br_raw_20130718184728384_118_S195604_I381408.nii\n",
            "Brain Extracted for image: /content/drive/MyDrive/ADNI/EMCI/ADNI_009_S_2208_MR_MPRAGE_br_raw_20120106130929937_67_S135621_I275719.nii\n",
            "Brain Extracted for image: /content/drive/MyDrive/ADNI/EMCI/ADNI_013_S_4268_MR_MPRAGE_br_raw_20120130155232051_9_S138911_I281507.nii\n",
            "Brain Extracted for image: /content/drive/MyDrive/ADNI/EMCI/ADNI_009_S_2381_MR_MPRAGE_GRAPPA2_br_raw_20110518161954305_147_S109346_I235706.nii\n",
            "Brain Extracted for image: /content/drive/MyDrive/ADNI/EMCI/ADNI_018_S_2180_MR_MPRAGE_SENSE2__br_raw_20160316144945744_1_S396253_I655397.nii\n",
            "Brain Extracted for image: /content/drive/MyDrive/ADNI/EMCI/ADNI_009_S_2381_MR_MPRAGE_GRAPPA2_br_raw_20130624101803453_158_S193107_I377789.nii\n",
            "Brain Extracted for image: /content/drive/MyDrive/ADNI/EMCI/ADNI_013_S_4268_MR_Accelerated_Sagittal_MPRAGE_ND_br_raw_20181120173926203_53_S749095_I1075335.nii\n",
            "Brain Extracted for image: /content/drive/MyDrive/ADNI/EMCI/ADNI_002_S_4447_MR_MPRAGE_br_raw_20130227105154406_90_S183262_I361437.nii\n",
            "Brain Extracted for image: /content/drive/MyDrive/ADNI/EMCI/ADNI_009_S_4530_MR_MPRAGE_br_raw_20120905141011968_80_S166256_I330576.nii\n",
            "Brain Extracted for image: /content/drive/MyDrive/ADNI/EMCI/ADNI_018_S_2155_MR_MPRAGE_br_raw_20131203174206961_22_S206967_I399916.nii\n",
            "Brain Extracted for image: /content/drive/MyDrive/ADNI/EMCI/ADNI_009_S_5000_MR_MPRAGE_br_raw_20141206125514981_107_S242498_I460685.nii\n",
            "Brain Extracted for image: /content/drive/MyDrive/ADNI/EMCI/ADNI_002_S_2010_MR_MPRAGE_br_raw_20110122171028174_96_S98069_I213880.nii\n",
            "Brain Extracted for image: /content/drive/MyDrive/ADNI/EMCI/ADNI_002_S_4237_MR_MPRAGE_br_raw_20120522102000271_49_S149132_I301770.nii\n",
            "Brain Extracted for image: /content/drive/MyDrive/ADNI/EMCI/ADNI_011_S_2274_MR_MPRAGE_br_raw_20110819154214417_23_S119770_I251937.nii\n",
            "Brain Extracted for image: /content/drive/MyDrive/ADNI/EMCI/ADNI_013_S_4268_MR_MPRAGE_SENSE2__br_raw_20120606143058077_120_S152996_I308388.nii\n",
            "Brain Extracted for image: /content/drive/MyDrive/ADNI/EMCI/ADNI_013_S_4791_MR_MPRAGE_br_raw_20130418150519154_82_S187357_I367840.nii\n",
            "Brain Extracted for image: /content/drive/MyDrive/ADNI/EMCI/ADNI_012_S_4128_MR_MPRAGE_SENSE2__br_raw_20150923101837157_98_S278253_I516625.nii\n",
            "Brain Extracted for image: /content/drive/MyDrive/ADNI/EMCI/ADNI_011_S_2274_MR_MPRAGE_GRAPPA2_br_raw_20110819154236495_4_S119769_I251934.nii\n",
            "Brain Extracted for image: /content/drive/MyDrive/ADNI/EMCI/ADNI_013_S_2389_MR_Accelerated_Sagittal_MPRAGE_ND_br_raw_20171205122526069_17_S641576_I942684.nii\n",
            "Brain Extracted for image: /content/drive/MyDrive/ADNI/EMCI/ADNI_019_S_4680_MR_MPRAGE_br_raw_20120425161952913_119_S148323_I300530.nii\n",
            "Brain Extracted for image: /content/drive/MyDrive/ADNI/EMCI/ADNI_012_S_4012_MR_MPRAGE_br_raw_20111110113800859_1_S128845_I265870.nii\n",
            "Brain Extracted for image: /content/drive/MyDrive/ADNI/EMCI/ADNI_022_S_2087_MR_MPRAGE_br_raw_20101006171547116_161_S93012_I195225.nii\n",
            "Brain Extracted for image: /content/drive/MyDrive/ADNI/EMCI/ADNI_009_S_2208_MR_MPRAGE_GRAPPA2_br_raw_20101202202422668_120_S95722_I207372.nii\n",
            "Brain Extracted for image: /content/drive/MyDrive/ADNI/EMCI/ADNI_018_S_4809_MR_MPRAGE_br_raw_20120622131347167_168_S154966_I311912.nii\n",
            "Brain Extracted for image: /content/drive/MyDrive/ADNI/EMCI/ADNI_002_S_4799_MR_MPRAGE_br_raw_20130702104952297_58_S193937_I379003.nii\n",
            "Brain Extracted for image: /content/drive/MyDrive/ADNI/EMCI/ADNI_009_S_4958_MR_MPRAGE_br_raw_20131025093850420_169_S204838_I395896.nii\n",
            "Brain Extracted for image: /content/drive/MyDrive/ADNI/EMCI/ADNI_018_S_2180_MR_MPRAGE_br_raw_20101209104657021_13_S96133_I207992.nii\n",
            "Brain Extracted for image: /content/drive/MyDrive/ADNI/EMCI/ADNI_012_S_4188_MR_MPRAGE_SENSE2__br_raw_20160301152225196_51_S384729_I642458.nii\n",
            "Brain Extracted for image: /content/drive/MyDrive/ADNI/EMCI/ADNI_009_S_4814_MR_MPRAGE_br_raw_20130212024121921_17_S181975_I358721.nii\n",
            "Brain Extracted for image: /content/drive/MyDrive/ADNI/EMCI/ADNI_013_S_2389_MR_Accelerated_Sagittal_MPRAGE_ND_br_raw_20171205122527383_127_S641580_I942689.nii\n",
            "Brain Extracted for image: /content/drive/MyDrive/ADNI/EMCI/ADNI_002_S_2010_MR_MPRAGE_br_raw_20101022214823527_109_S93650_I199147.nii\n",
            "Brain Extracted for image: /content/drive/MyDrive/ADNI/EMCI/ADNI_018_S_2138_MR_MPRAGE_SENSE2__br_raw_20110407135856799_170_S103483_I226628.nii\n",
            "Brain Extracted for image: /content/drive/MyDrive/ADNI/EMCI/ADNI_018_S_2155_MR_MPRAGE_br_raw_20110706150710554_77_S113705_I243442.nii\n",
            "Brain Extracted for image: /content/drive/MyDrive/ADNI/EMCI/ADNI_018_S_4868_MR_MPRAGE_br_raw_20160819101317969_1_S492564_I767920.nii\n",
            "Brain Extracted for image: /content/drive/MyDrive/ADNI/EMCI/ADNI_011_S_4547_MR_MPRAGE_GRAPPA2_br_raw_20140305133311301_79_S213636_I415943.nii\n",
            "Brain Extracted for image: /content/drive/MyDrive/ADNI/EMCI/ADNI_019_S_4680_MR_MPRAGE_SENSE2__br_raw_20130506152937577_93_S188696_I370443.nii\n",
            "Brain Extracted for image: /content/drive/MyDrive/ADNI/EMCI/ADNI_014_S_2308_MR_Accelerated_Sagittal_MPRAGE_ND_br_raw_20181108154056436_121_S745769_I1071184.nii\n",
            "Brain Extracted for image: /content/drive/MyDrive/ADNI/EMCI/ADNI_002_S_2073_MR_MPRAGE_br_raw_20120911112203892_16_S166925_I332882.nii\n",
            "Brain Extracted for image: /content/drive/MyDrive/ADNI/EMCI/ADNI_013_S_2324_MR_MPRAGE_SENSE2__br_raw_20110628170433759_50_S112892_I242255.nii\n",
            "Brain Extracted for image: /content/drive/MyDrive/ADNI/EMCI/ADNI_002_S_4799_MR_MPRAGE_SENSE2__br_raw_20160907130342326_34_S497585_I774046.nii\n",
            "Brain Extracted for image: /content/drive/MyDrive/ADNI/EMCI/ADNI_009_S_5000_MR_MPRAGE_br_raw_20131126004909133_99_S206766_I399531.nii\n",
            "Brain Extracted for image: /content/drive/MyDrive/ADNI/EMCI/ADNI_011_S_2274_MR_MPRAGE_br_raw_20120217102807686_92_S141086_I285351.nii\n",
            "Brain Extracted for image: /content/drive/MyDrive/ADNI/EMCI/ADNI_002_S_4473_MR_MPRAGE_SENSE2__br_raw_20140328154943866_58_S214907_I417995.nii\n",
            "Brain Extracted for image: /content/drive/MyDrive/ADNI/EMCI/ADNI_012_S_4128_MR_MPRAGE_SENSE2__br_raw_20130812125323812_1_S197618_I385095.nii\n",
            "Brain Extracted for image: /content/drive/MyDrive/ADNI/EMCI/ADNI_002_S_2010_MR_MPRAGE_SENSE2__br_raw_20120712105026148_147_S157394_I316038.nii\n",
            "Brain Extracted for image: /content/drive/MyDrive/ADNI/EMCI/ADNI_013_S_4791_MR_MPRAGE_br_raw_20121001115014762_150_S169171_I337383.nii\n",
            "Brain Extracted for image: /content/drive/MyDrive/ADNI/EMCI/ADNI_002_S_4237_MR_MPRAGE_br_raw_20120119095137316_66_S137462_I279222.nii\n",
            "Brain Extracted for image: /content/drive/MyDrive/ADNI/EMCI/ADNI_022_S_2087_MR_MPRAGE_br_raw_20141028154545949_26_S234906_I449940.nii\n",
            "Brain Extracted for image: /content/drive/MyDrive/ADNI/EMCI/ADNI_014_S_2308_MR_MPRAGE_br_raw_20110908120807463_40_S121476_I255103.nii\n",
            "Brain Extracted for image: /content/drive/MyDrive/ADNI/EMCI/ADNI_009_S_5000_MR_MPRAGE_GRAPPA2_br_raw_20121029123739592_55_S172480_I342859.nii\n",
            "Brain Extracted for image: /content/drive/MyDrive/ADNI/EMCI/ADNI_012_S_4188_MR_MPRAGE_br_raw_20110909104329098_149_S121622_I255322.nii\n",
            "Brain Extracted for image: /content/drive/MyDrive/ADNI/EMCI/ADNI_002_S_4799_MR_MPRAGE_br_raw_20120911101309457_138_S166900_I332855.nii\n",
            "Brain Extracted for image: /content/drive/MyDrive/ADNI/EMCI/ADNI_013_S_2389_MR_MPRAGE_SENSE2__br_raw_20110624150540398_95_S112518_I241658.nii\n",
            "Brain Extracted for image: /content/drive/MyDrive/ADNI/EMCI/ADNI_011_S_4547_MR_MPRAGE_br_raw_20120913123238222_81_S167354_I333889.nii\n",
            "Brain Extracted for image: /content/drive/MyDrive/ADNI/EMCI/ADNI_002_S_2043_MR_MPRAGE_SENSE2__br_raw_20110917104612582_84_S122478_I256638.nii\n",
            "Brain Extracted for image: /content/drive/MyDrive/ADNI/EMCI/ADNI_002_S_4473_MR_MPRAGE_br_raw_20130207125419692_69_S181762_I358426.nii\n",
            "Brain Extracted for image: /content/drive/MyDrive/ADNI/EMCI/ADNI_014_S_2308_MR_MPRAGE_GRAPPA2_br_raw_20160505171535165_109_S434460_I700120.nii\n",
            "Brain Extracted for image: /content/drive/MyDrive/ADNI/EMCI/ADNI_009_S_2208_MR_MPRAGE_GRAPPA2_br_raw_20120106130922078_116_S135628_I275729.nii\n",
            "Brain Extracted for image: /content/drive/MyDrive/ADNI/EMCI/ADNI_011_S_4547_MR_MPRAGE_br_raw_20130319130621583_42_S184693_I363674.nii\n",
            "Brain Extracted for image: /content/drive/MyDrive/ADNI/EMCI/ADNI_012_S_4128_MR_MPRAGE_br_raw_20150923101727205_94_S278251_I516622.nii\n",
            "Brain Extracted for image: /content/drive/MyDrive/ADNI/EMCI/ADNI_002_S_2073_MR_MPRAGE_SENSE2__br_raw_20100908060113669_135_S91783_I192255.nii\n",
            "Brain Extracted for image: /content/drive/MyDrive/ADNI/EMCI/ADNI_002_S_4447_MR_MPRAGE_br_raw_20140214133947634_153_S212660_I414383.nii\n",
            "Brain Extracted for image: /content/drive/MyDrive/ADNI/EMCI/ADNI_002_S_4447_MR_MPRAGE_SENSE2__br_raw_20120424113614021_164_S148199_I300243.nii\n",
            "Brain Extracted for image: /content/drive/MyDrive/ADNI/EMCI/ADNI_009_S_5000_MR_MPRAGE_GRAPPA2_br_raw_20141206125532037_162_S242503_I460690.nii\n",
            "Brain Extracted for image: /content/drive/MyDrive/ADNI/EMCI/ADNI_012_S_4188_MR_MPRAGE_SENSE2__br_raw_20131009140236879_1_S203426_I393846.nii\n",
            "Brain Extracted for image: /content/drive/MyDrive/ADNI/EMCI/ADNI_018_S_4868_MR_MPRAGE_SENSE2__br_raw_20160819101315834_1_S492570_I767926.nii\n",
            "Brain Extracted for image: /content/drive/MyDrive/ADNI/EMCI/ADNI_014_S_2185_MR_MPRAGE_GRAPPA2_br_raw_20110328122656947_112_S102442_I225018.nii\n",
            "Brain Extracted for image: /content/drive/MyDrive/ADNI/EMCI/ADNI_014_S_4328_MR_MPRAGE_GRAPPA2_br_raw_20131125153617183_5_S206743_I399504.nii\n",
            "Brain Extracted for image: /content/drive/MyDrive/ADNI/EMCI/ADNI_006_S_4679_MR_MPRAGE_br_raw_20121207164706205_33_S176759_I350111.nii\n",
            "Brain Extracted for image: /content/drive/MyDrive/ADNI/EMCI/ADNI_009_S_4530_MR_MPRAGE_br_raw_20120215094109040_162_S140818_I284904.nii\n",
            "Brain Extracted for image: /content/drive/MyDrive/ADNI/EMCI/ADNI_014_S_4068_MR_MPRAGE_br_raw_20110610082623619_36_S111188_I239633.nii\n",
            "Brain Extracted for image: /content/drive/MyDrive/ADNI/EMCI/ADNI_014_S_2185_MR_MPRAGE_br_raw_20130208115943381_175_S181794_I358466.nii\n",
            "Brain Extracted for image: /content/drive/MyDrive/ADNI/EMCI/ADNI_018_S_2133_MR_MPRAGE_br_raw_20101025161338150_15_S93680_I199195.nii\n",
            "Brain Extracted for image: /content/drive/MyDrive/ADNI/EMCI/ADNI_019_S_4285_MR_MPRAGE_SENSE2__br_raw_20131113174717999_104_S206015_I398235.nii\n",
            "Brain Extracted for image: /content/drive/MyDrive/ADNI/EMCI/ADNI_011_S_4235_MR_MPRAGE_br_raw_20150923153231930_158_S278271_I516649.nii\n",
            "Brain Extracted for image: /content/drive/MyDrive/ADNI/EMCI/ADNI_022_S_2087_MR_MPRAGE_GRAPPA2_br_raw_20110209133637994_164_S99292_I216399.nii\n",
            "Brain Extracted for image: /content/drive/MyDrive/ADNI/EMCI/ADNI_009_S_2208_MR_MPRAGE_GRAPPA2_br_raw_20110629142125922_42_S112994_I242396.nii\n",
            "Brain Extracted for image: /content/drive/MyDrive/ADNI/EMCI/ADNI_002_S_4799_MR_MPRAGE_br_raw_20120622103454804_136_S154974_I311922.nii\n",
            "Brain Extracted for image: /content/drive/MyDrive/ADNI/EMCI/ADNI_002_S_4447_MR_MPRAGE_br_raw_20150205115842423_166_S247817_I472274.nii\n",
            "Brain Extracted for image: /content/drive/MyDrive/ADNI/EMCI/ADNI_012_S_4987_MR_MPRAGE_br_raw_20131113122258284_1_S205976_I398099.nii\n",
            "Brain Extracted for image: /content/drive/MyDrive/ADNI/EMCI/ADNI_013_S_2324_MR_MPRAGE_br_raw_20110328152402908_29_S102467_I225055.nii\n",
            "Brain Extracted for image: /content/drive/MyDrive/ADNI/EMCI/ADNI_018_S_2155_MR_MPRAGE_SENSE2__br_raw_20101202154946700_69_S95703_I207343.nii\n",
            "Brain Extracted for image: /content/drive/MyDrive/ADNI/EMCI/ADNI_011_S_4893_MR_MPRAGE_GRAPPA2_br_raw_20130405151212623_89_S186139_I365760.nii\n",
            "Brain Extracted for image: /content/drive/MyDrive/ADNI/EMCI/ADNI_018_S_2155_MR_MPRAGE_SENSE2__br_raw_20121213153726756_142_S177565_I351328.nii\n",
            "Brain Extracted for image: /content/drive/MyDrive/ADNI/EMCI/ADNI_011_S_4893_MR_MPRAGE_br_raw_20160928104422964_71_S502325_I779814.nii\n",
            "Brain Extracted for image: /content/drive/MyDrive/ADNI/EMCI/ADNI_011_S_4893_MR_Accelerated_Sagittal_MPRAGE__br_raw_20171109102652188_85_S629969_I929106.nii\n",
            "Brain Extracted for image: /content/drive/MyDrive/ADNI/EMCI/ADNI_002_S_4799_MR_MPRAGE_SENSE2__br_raw_20120622103642034_17_S154975_I311923.nii\n",
            "Brain Extracted for image: /content/drive/MyDrive/ADNI/EMCI/ADNI_013_S_4268_MR_MPRAGE_SENSE2__br_raw_20120130155008022_37_S138910_I281506.nii\n",
            "Brain Extracted for image: /content/drive/MyDrive/ADNI/EMCI/ADNI_009_S_2208_MR_MPRAGE_br_raw_20110304114433359_156_S100911_I222447.nii\n",
            "Brain Extracted for image: /content/drive/MyDrive/ADNI/EMCI/ADNI_006_S_4679_MR_MPRAGE_SENSE2__br_raw_20120914133358028_16_S167546_I334233.nii\n",
            "Brain Extracted for image: /content/drive/MyDrive/ADNI/EMCI/ADNI_012_S_4188_MR_MPRAGE_SENSE2__br_raw_20111223101731168_1_S134874_I274436.nii\n",
            "Brain Extracted for image: /content/drive/MyDrive/ADNI/EMCI/ADNI_013_S_2324_MR_MPRAGE_SENSE2__br_raw_20120521102431575_124_S151097_I305418.nii\n",
            "Brain Extracted for image: /content/drive/MyDrive/ADNI/EMCI/ADNI_012_S_4128_MR_MPRAGE_br_raw_20110802144231574_84_S117117_I248234.nii\n",
            "Brain Extracted for image: /content/drive/MyDrive/ADNI/EMCI/ADNI_019_S_4680_MR_MPRAGE_br_raw_20120712140629573_82_S157405_I316051.nii\n",
            "Brain Extracted for image: /content/drive/MyDrive/ADNI/EMCI/ADNI_011_S_4893_MR_MPRAGE_GRAPPA2_br_raw_20160928104426786_107_S502324_I779813.nii\n",
            "Brain Extracted for image: /content/drive/MyDrive/ADNI/EMCI/ADNI_009_S_4814_MR_MPRAGE_GRAPPA2_br_raw_20120702091633634_143_S156280_I313892.nii\n",
            "Brain Extracted for image: /content/drive/MyDrive/ADNI/EMCI/ADNI_014_S_2308_MR_Accelerated_Sagittal_MPRAGE__br_raw_20210127083949529_136_S996097_I1403921.nii\n",
            "Brain Extracted for image: /content/drive/MyDrive/ADNI/EMCI/ADNI_018_S_2180_MR_MPRAGE_br_raw_20140107132559417_101_S209719_I404049.nii\n",
            "Brain Extracted for image: /content/drive/MyDrive/ADNI/EMCI/ADNI_018_S_4597_MR_MPRAGE_br_raw_20120807143533383_100_S159766_I321921.nii\n",
            "Brain Extracted for image: /content/drive/MyDrive/ADNI/EMCI/ADNI_022_S_2087_MR_MPRAGE_GRAPPA2_br_raw_20141028154545579_107_S234905_I449938.nii\n",
            "Brain Extracted for image: /content/drive/MyDrive/ADNI/EMCI/ADNI_014_S_4328_MR_MPRAGE_GRAPPA2_br_raw_20111108075553451_161_S128282_I265069.nii\n",
            "Brain Extracted for image: /content/drive/MyDrive/ADNI/EMCI/ADNI_013_S_2324_MR_MPRAGE_br_raw_20111018125913267_61_S125575_I261321.nii\n",
            "Brain Extracted for image: /content/drive/MyDrive/ADNI/EMCI/ADNI_022_S_2087_MR_MPRAGE_GRAPPA2_br_raw_20110602150727613_137_S110454_I238596.nii\n",
            "Brain Extracted for image: /content/drive/MyDrive/ADNI/EMCI/ADNI_002_S_4237_MR_MPRAGE_SENSE2__br_raw_20120119095156210_122_S137458_I279217.nii\n",
            "Brain Extracted for image: /content/drive/MyDrive/ADNI/EMCI/ADNI_018_S_4868_MR_MPRAGE_br_raw_20140731144408821_160_S226499_I437823.nii\n",
            "Brain Extracted for image: /content/drive/MyDrive/ADNI/EMCI/ADNI_019_S_4680_MR_MPRAGE_SENSE2__br_raw_20121030144851955_111_S172695_I343141.nii\n",
            "Brain Extracted for image: /content/drive/MyDrive/ADNI/EMCI/ADNI_009_S_4814_MR_MPRAGE_br_raw_20121025155437997_127_S172349_I342660.nii\n",
            "Brain Extracted for image: /content/drive/MyDrive/ADNI/EMCI/ADNI_022_S_2167_MR_MPRAGE_GRAPPA2_br_raw_20101213125254411_30_S96322_I208295.nii\n",
            "Brain Extracted for image: /content/drive/MyDrive/ADNI/EMCI/ADNI_012_S_4987_MR_MPRAGE_br_raw_20121105123907012_1_S173242_I343906.nii\n",
            "Brain Extracted for image: /content/drive/MyDrive/ADNI/EMCI/ADNI_013_S_4268_MR_MPRAGE_br_raw_20131121105046069_112_S206392_I398987.nii\n",
            "Brain Extracted for image: /content/drive/MyDrive/ADNI/EMCI/ADNI_014_S_2185_MR_MPRAGE_br_raw_20110707133324907_164_S113899_I243700.nii\n",
            "Brain Extracted for image: /content/drive/MyDrive/ADNI/EMCI/ADNI_013_S_4791_MR_MPRAGE_br_raw_20121221104400366_15_S178513_I352719.nii\n",
            "Brain Extracted for image: /content/drive/MyDrive/ADNI/EMCI/ADNI_018_S_2180_MR_MPRAGE_SENSE2__br_raw_20140107132607002_138_S209716_I404043.nii\n",
            "Brain Extracted for image: /content/drive/MyDrive/ADNI/EMCI/ADNI_011_S_2274_MR_MPRAGE_GRAPPA2_br_raw_20110505140334725_58_S108103_I233442.nii\n",
            "Brain Extracted for image: /content/drive/MyDrive/ADNI/EMCI/ADNI_018_S_4809_MR_MPRAGE_br_raw_20160715153008966_1_S484826_I758077.nii\n",
            "Brain Extracted for image: /content/drive/MyDrive/ADNI/EMCI/ADNI_022_S_2087_MR_MPRAGE_br_raw_20110602150736458_23_S110455_I238597.nii\n",
            "Brain Extracted for image: /content/drive/MyDrive/ADNI/EMCI/ADNI_018_S_2133_MR_MPRAGE_br_raw_20110323105016148_123_S102174_I224638.nii\n",
            "Brain Extracted for image: /content/drive/MyDrive/ADNI/EMCI/ADNI_009_S_2381_MR_MPRAGE_br_raw_20110518161936430_59_S109343_I235703.nii\n",
            "Brain Extracted for image: /content/drive/MyDrive/ADNI/EMCI/ADNI_009_S_5000_MR_MPRAGE_br_raw_20130701161532392_36_S193852_I378885.nii\n",
            "Brain Extracted for image: /content/drive/MyDrive/ADNI/EMCI/ADNI_011_S_4235_MR_MPRAGE_br_raw_20110926120955539_147_S123401_I258013.nii\n",
            "Brain Extracted for image: /content/drive/MyDrive/ADNI/EMCI/ADNI_012_S_4128_MR_MPRAGE_br_raw_20111109165607000_1_S128549_I265530.nii\n",
            "Brain Extracted for image: /content/drive/MyDrive/ADNI/EMCI/ADNI_002_S_4473_MR_MPRAGE_SENSE2__br_raw_20150218150533064_168_S249136_I473876.nii\n",
            "Brain Extracted for image: /content/drive/MyDrive/ADNI/EMCI/ADNI_011_S_4235_MR_MPRAGE_br_raw_20131003162209495_35_S202974_I393235.nii\n",
            "Brain Extracted for image: /content/drive/MyDrive/ADNI/EMCI/ADNI_002_S_4237_MR_MPRAGE_br_raw_20131022150759249_77_S204612_I395572.nii\n",
            "Brain Extracted for image: /content/drive/MyDrive/ADNI/EMCI/ADNI_002_S_2073_MR_MPRAGE_SENSE2__br_raw_20140918103325438_73_S231272_I444157.nii\n",
            "Brain Extracted for image: /content/drive/MyDrive/ADNI/EMCI/ADNI_013_S_4268_MR_MPRAGE_br_raw_20121126133540005_134_S175407_I347751.nii\n",
            "Brain Extracted for image: /content/drive/MyDrive/ADNI/EMCI/ADNI_012_S_4987_MR_MPRAGE_SENSE2__br_raw_20121105123758607_1_S173240_I343904.nii\n",
            "Brain Extracted for image: /content/drive/MyDrive/ADNI/EMCI/ADNI_013_S_4791_MR_MPRAGE_SENSE2__br_raw_20121221104920969_13_S178511_I352715.nii\n",
            "Brain Extracted for image: /content/drive/MyDrive/ADNI/EMCI/ADNI_014_S_2308_MR_MPRAGE_br_raw_20110217125443143_125_S100040_I217969.nii\n",
            "Brain Extracted for image: /content/drive/MyDrive/ADNI/EMCI/ADNI_009_S_5000_MR_MPRAGE_GRAPPA2_br_raw_20130212025032000_91_S181989_I358740.nii\n",
            "Brain Extracted for image: /content/drive/MyDrive/ADNI/EMCI/ADNI_011_S_4547_MR_MPRAGE_GRAPPA2_br_raw_20160401090023019_176_S407129_I667643.nii\n",
            "Brain Extracted for image: /content/drive/MyDrive/ADNI/EMCI/ADNI_014_S_2308_MR_MPRAGE_GRAPPA2_br_raw_20120322123706237_24_S144482_I291643.nii\n",
            "Brain Extracted for image: /content/drive/MyDrive/ADNI/EMCI/ADNI_018_S_4809_MR_MPRAGE_SENSE2__br_raw_20130625142023684_74_S193271_I378007.nii\n",
            "Brain Extracted for image: /content/drive/MyDrive/ADNI/EMCI/ADNI_018_S_2155_MR_MPRAGE_SENSE2__br_raw_20141218135300271_12_S243224_I466108.nii\n",
            "Brain Extracted for image: /content/drive/MyDrive/ADNI/EMCI/ADNI_013_S_4917_MR_MPRAGE_br_raw_20130325105726490_89_S185138_I364285.nii\n",
            "Brain Extracted for image: /content/drive/MyDrive/ADNI/EMCI/ADNI_009_S_4530_MR_MPRAGE_GRAPPA2_br_raw_20120905141012686_64_S166257_I330577.nii\n",
            "Brain Extracted for image: /content/drive/MyDrive/ADNI/EMCI/ADNI_002_S_4447_MR_MPRAGE_br_raw_20120815095652897_64_S160853_I323840.nii\n",
            "Brain Extracted for image: /content/drive/MyDrive/ADNI/EMCI/ADNI_002_S_2010_MR_MPRAGE_SENSE2__br_raw_20150813173049753_12_S268733_I505161.nii\n",
            "Brain Extracted for image: /content/drive/MyDrive/ADNI/EMCI/ADNI_013_S_4268_MR_MPRAGE_SENSE2__br_raw_20121126133807407_35_S175408_I347752.nii\n",
            "Brain Extracted for image: /content/drive/MyDrive/ADNI/EMCI/ADNI_018_S_4597_MR_MPRAGE_br_raw_20120314133848189_53_S143853_I290304.nii\n",
            "Brain Extracted for image: /content/drive/MyDrive/ADNI/EMCI/ADNI_013_S_4791_MR_MPRAGE_SENSE2__br_raw_20130418150647631_117_S187356_I367839.nii\n",
            "Brain Extracted for image: /content/drive/MyDrive/ADNI/EMCI/ADNI_012_S_4128_MR_MPRAGE_SENSE2__br_raw_20120315131158953_1_S143918_I290434.nii\n",
            "Brain Extracted for image: /content/drive/MyDrive/ADNI/EMCI/ADNI_002_S_4799_MR_MPRAGE_br_raw_20160907130005364_1_S497582_I774043.nii\n",
            "Brain Extracted for image: /content/drive/MyDrive/ADNI/EMCI/ADNI_018_S_4809_MR_MPRAGE_br_raw_20130108153116114_152_S179412_I353992.nii\n",
            "Brain Extracted for image: /content/drive/MyDrive/ADNI/EMCI/ADNI_012_S_4987_MR_MPRAGE_br_raw_20130402162709711_1_S182931_I361028.nii\n",
            "Brain Extracted for image: /content/drive/MyDrive/ADNI/EMCI/ADNI_012_S_4849_MR_MPRAGE_br_raw_20130304160749785_1_S183653_I361978.nii\n",
            "Brain Extracted for image: /content/drive/MyDrive/ADNI/EMCI/ADNI_013_S_2324_MR_MPRAGE_br_raw_20120521102417497_148_S151091_I305410.nii\n",
            "Brain Extracted for image: /content/drive/MyDrive/ADNI/EMCI/ADNI_018_S_2155_MR_MPRAGE_br_raw_20111222142541899_145_S134596_I274113.nii\n",
            "Brain Extracted for image: /content/drive/MyDrive/ADNI/EMCI/ADNI_012_S_4188_MR_MPRAGE_br_raw_20131009140341563_1_S203431_I393851.nii\n",
            "Brain Extracted for image: /content/drive/MyDrive/ADNI/EMCI/ADNI_011_S_4547_MR_MPRAGE_br_raw_20120524135201028_20_S151525_I306307.nii\n",
            "Brain Extracted for image: /content/drive/MyDrive/ADNI/EMCI/ADNI_002_S_4799_MR_Accelerated_Sagittal_MPRAGE__br_raw_20170523134503089_91_S567043_I854584.nii\n",
            "Brain Extracted for image: /content/drive/MyDrive/ADNI/EMCI/ADNI_012_S_4012_MR_MPRAGE_SENSE2__br_raw_20150508113028486_1_S258834_I491392.nii\n",
            "Brain Extracted for image: /content/drive/MyDrive/ADNI/EMCI/ADNI_012_S_4849_MR_MPRAGE_SENSE2__br_raw_20120727130225382_1_S158711_I319128.nii\n",
            "Brain Extracted for image: /content/drive/MyDrive/ADNI/EMCI/ADNI_009_S_4958_MR_MPRAGE_br_raw_20130417170912539_171_S187265_I367656.nii\n",
            "Brain Extracted for image: /content/drive/MyDrive/ADNI/EMCI/ADNI_018_S_2155_MR_MPRAGE_SENSE2__br_raw_20111222142610163_139_S134601_I274118.nii\n",
            "Brain Extracted for image: /content/drive/MyDrive/ADNI/EMCI/ADNI_009_S_4814_MR_MPRAGE_br_raw_20120702091745429_68_S156281_I313893.nii\n",
            "Brain Extracted for image: /content/drive/MyDrive/ADNI/EMCI/ADNI_014_S_2308_MR_Accelerated_Sagittal_MPRAGE_ND_br_raw_20170902083709216_81_S604747_I899457.nii\n",
            "Brain Extracted for image: /content/drive/MyDrive/ADNI/EMCI/ADNI_002_S_4799_MR_Accelerated_Sagittal_MPRAGE__br_raw_20180615112615363_65_S696326_I1010814.nii\n",
            "Brain Extracted for image: /content/drive/MyDrive/ADNI/EMCI/ADNI_013_S_2324_MR_MPRAGE_SENSE2__br_raw_20110328152512970_158_S102469_I225057.nii\n",
            "Brain Extracted for image: /content/drive/MyDrive/ADNI/EMCI/ADNI_012_S_4188_MR_MPRAGE_br_raw_20160301152122658_53_S384725_I642450.nii\n",
            "Brain Extracted for image: /content/drive/MyDrive/ADNI/EMCI/ADNI_022_S_2087_MR_MPRAGE_GRAPPA2_br_raw_20111121163004134_85_S130327_I267892.nii\n",
            "Brain Extracted for image: /content/drive/MyDrive/ADNI/EMCI/ADNI_014_S_2185_MR_MPRAGE_GRAPPA2_br_raw_20130208115929960_110_S181800_I358474.nii\n",
            "Brain Extracted for image: /content/drive/MyDrive/ADNI/EMCI/ADNI_011_S_2274_MR_MPRAGE_br_raw_20150206102255649_43_S247856_I472323.nii\n",
            "Brain Extracted for image: /content/drive/MyDrive/ADNI/EMCI/ADNI_009_S_4958_MR_MPRAGE_GRAPPA2_br_raw_20131025094052338_151_S204848_I395909.nii\n",
            "Brain Extracted for image: /content/drive/MyDrive/ADNI/EMCI/ADNI_011_S_2274_MR_MPRAGE_br_raw_20140220131424468_69_S213004_I414920.nii\n",
            "Brain Extracted for image: /content/drive/MyDrive/ADNI/EMCI/ADNI_002_S_4473_MR_MPRAGE_br_raw_20140328155138761_18_S214903_I417989.nii\n",
            "Brain Extracted for image: /content/drive/MyDrive/ADNI/EMCI/ADNI_013_S_4268_MR_MPRAGE_SENSE2__br_raw_20111102114106790_110_S127827_I264413.nii\n",
            "Brain Extracted for image: /content/drive/MyDrive/ADNI/EMCI/ADNI_002_S_2073_MR_MPRAGE_br_raw_20101206185927496_48_S95924_I207661.nii\n",
            "Brain Extracted for image: /content/drive/MyDrive/ADNI/EMCI/ADNI_009_S_2208_MR_MPRAGE_br_raw_20141206130749166_40_S242513_I460702.nii\n",
            "Brain Extracted for image: /content/drive/MyDrive/ADNI/EMCI/ADNI_002_S_2010_MR_MPRAGE_SENSE2__br_raw_20110708102732501_40_S114023_I243871.nii\n",
            "Brain Extracted for image: /content/drive/MyDrive/ADNI/EMCI/ADNI_018_S_2133_MR_MPRAGE_SENSE2__br_raw_20101025161405415_75_S93678_I199193.nii\n",
            "Brain Extracted for image: /content/drive/MyDrive/ADNI/EMCI/ADNI_011_S_4893_MR_MPRAGE_br_raw_20140919140155706_48_S231390_I444303.nii\n",
            "Brain Extracted for image: /content/drive/MyDrive/ADNI/EMCI/ADNI_018_S_4868_MR_MPRAGE_br_raw_20130822133555324_80_S198845_I386890.nii\n",
            "Brain Extracted for image: /content/drive/MyDrive/ADNI/EMCI/ADNI_011_S_4547_MR_MPRAGE_GRAPPA2_br_raw_20130319130618131_49_S184694_I363676.nii\n",
            "Brain Extracted for image: /content/drive/MyDrive/ADNI/EMCI/ADNI_018_S_2133_MR_Sagittal_3D_Accelerated_MPRAGE_br_raw_20190212134645607_16_S796183_I1129657.nii\n",
            "Brain Extracted for image: /content/drive/MyDrive/ADNI/EMCI/ADNI_006_S_4679_MR_MPRAGE_br_raw_20130718184933091_81_S195599_I381400.nii\n",
            "Brain Extracted for image: /content/drive/MyDrive/ADNI/EMCI/ADNI_018_S_2155_MR_MPRAGE_SENSE2__br_raw_20110303150401028_65_S100805_I222170.nii\n",
            "Brain Extracted for image: /content/drive/MyDrive/ADNI/EMCI/ADNI_018_S_2138_MR_MPRAGE_SENSE2__br_raw_20110908143758950_121_S121501_I255138.nii\n",
            "Brain Extracted for image: /content/drive/MyDrive/ADNI/EMCI/ADNI_013_S_4268_MR_MPRAGE_GRAPPA_2__br_raw_20131121105033835_10_S206393_I398988.nii\n",
            "Brain Extracted for image: /content/drive/MyDrive/ADNI/EMCI/ADNI_014_S_2308_MR_MPRAGE_br_raw_20130411134245158_94_S186723_I366546.nii\n",
            "Brain Extracted for image: /content/drive/MyDrive/ADNI/EMCI/ADNI_002_S_4473_MR_MPRAGE_SENSE2__br_raw_20120518102351768_94_S151000_I305236.nii\n",
            "Brain Extracted for image: /content/drive/MyDrive/ADNI/EMCI/ADNI_002_S_2043_MR_MPRAGE_br_raw_20101208163002954_14_S96109_I207956.nii\n",
            "Brain Extracted for image: /content/drive/MyDrive/ADNI/EMCI/ADNI_018_S_2133_MR_MPRAGE_SENSE2__br_raw_20120124152423217_50_S138314_I280336.nii\n",
            "Brain Extracted for image: /content/drive/MyDrive/ADNI/EMCI/ADNI_011_S_2274_MR_MPRAGE_GRAPPA2_br_raw_20140220131424339_142_S213011_I414929.nii\n",
            "Brain Extracted for image: /content/drive/MyDrive/ADNI/EMCI/ADNI_018_S_2180_MR_MPRAGE_SENSE2__br_raw_20110311140001434_68_S101467_I223645.nii\n",
            "Brain Extracted for image: /content/drive/MyDrive/ADNI/EMCI/ADNI_014_S_2185_MR_MPRAGE_br_raw_20101210100524291_171_S96208_I208097.nii\n",
            "Brain Extracted for image: /content/drive/MyDrive/ADNI/EMCI/ADNI_002_S_2043_MR_MPRAGE_SENSE2__br_raw_20100901071754416_103_S91526_I191822.nii\n",
            "Brain Extracted for image: /content/drive/MyDrive/ADNI/EMCI/ADNI_013_S_4268_MR_MPRAGE_br_raw_20120606143107171_50_S152994_I308386.nii\n",
            "Brain Extracted for image: /content/drive/MyDrive/ADNI/EMCI/ADNI_002_S_4799_MR_MPRAGE_SENSE2__br_raw_20120911101506573_33_S166901_I332856.nii\n",
            "Brain Extracted for image: /content/drive/MyDrive/ADNI/EMCI/ADNI_013_S_4917_MR_MPRAGE_br_raw_20130916182626226_89_S201000_I390424.nii\n",
            "Brain Extracted for image: /content/drive/MyDrive/ADNI/EMCI/ADNI_012_S_4849_MR_MPRAGE_br_raw_20120727130222898_1_S158717_I319138.nii\n",
            "Brain Extracted for image: /content/drive/MyDrive/ADNI/EMCI/ADNI_009_S_2208_MR_MPRAGE_br_raw_20130111152036956_125_S180088_I354904.nii\n",
            "Brain Extracted for image: /content/drive/MyDrive/ADNI/EMCI/ADNI_018_S_4597_MR_MPRAGE_br_raw_20130311150018902_141_S184059_I362535.nii\n",
            "Brain Extracted for image: /content/drive/MyDrive/ADNI/EMCI/ADNI_013_S_4917_MR_MPRAGE_SENSE2__br_raw_20120910142335776_136_S165927_I330022.nii\n",
            "Brain Extracted for image: /content/drive/MyDrive/ADNI/EMCI/ADNI_009_S_2381_MR_MPRAGE_GRAPPA2_br_raw_20150702181646489_71_S264675_I499367.nii\n",
            "Brain Extracted for image: /content/drive/MyDrive/ADNI/EMCI/ADNI_019_S_4680_MR_MPRAGE_SENSE2__br_raw_20140417085800936_16_S216412_I420456.nii\n",
            "Brain Extracted for image: /content/drive/MyDrive/ADNI/EMCI/ADNI_009_S_4530_MR_MPRAGE_GRAPPA2_br_raw_20130411110755782_61_S186668_I366486.nii\n",
            "Brain Extracted for image: /content/drive/MyDrive/ADNI/EMCI/ADNI_022_S_2087_MR_MPRAGE_GRAPPA2_br_raw_20101006171511601_85_S93014_I195227.nii\n",
            "Brain Extracted for image: /content/drive/MyDrive/ADNI/EMCI/ADNI_013_S_4768_MR_MPRAGE_SENSE2__br_raw_20120801103334126_125_S159136_I320438.nii\n",
            "Brain Extracted for image: /content/drive/MyDrive/ADNI/EMCI/ADNI_018_S_2138_MR_MPRAGE_br_raw_20110407135848190_115_S103479_I226623.nii\n",
            "Brain Extracted for image: /content/drive/MyDrive/ADNI/EMCI/ADNI_018_S_2180_MR_MPRAGE_SENSE2__br_raw_20150108150523329_22_S244681_I467973.nii\n",
            "Brain Extracted for image: /content/drive/MyDrive/ADNI/EMCI/ADNI_019_S_4285_MR_MPRAGE_br_raw_20131113175330373_125_S206012_I398230.nii\n",
            "Brain Extracted for image: /content/drive/MyDrive/ADNI/EMCI/ADNI_022_S_2087_MR_MPRAGE_br_raw_20110209133652604_48_S99294_I216401.nii\n",
            "Brain Extracted for image: /content/drive/MyDrive/ADNI/EMCI/ADNI_002_S_4799_MR_MPRAGE_br_raw_20140707110422326_12_S224275_I434494.nii\n",
            "Brain Extracted for image: /content/drive/MyDrive/ADNI/EMCI/ADNI_002_S_4237_MR_MPRAGE_SENSE2__br_raw_20121112134116105_4_S174281_I346230.nii\n",
            "Brain Extracted for image: /content/drive/MyDrive/ADNI/EMCI/ADNI_011_S_4235_MR_MPRAGE_GRAPPA2_br_raw_20111219125453197_45_S133817_I273067.nii\n",
            "Brain Extracted for image: /content/drive/MyDrive/ADNI/EMCI/ADNI_009_S_4814_MR_MPRAGE_GRAPPA2_br_raw_20121025155431486_44_S172351_I342662.nii\n",
            "Brain Extracted for image: /content/drive/MyDrive/ADNI/EMCI/ADNI_014_S_4328_MR_MPRAGE_GRAPPA2_br_raw_20120419125613096_114_S147721_I298542.nii\n",
            "Brain Extracted for image: /content/drive/MyDrive/ADNI/EMCI/ADNI_012_S_4188_MR_Accelerated_Sagittal_MPRAGE__br_raw_20170919111424114_88_S609791_I905422.nii\n",
            "Brain Extracted for image: /content/drive/MyDrive/ADNI/EMCI/ADNI_019_S_4285_MR_MPRAGE_br_raw_20121024084251417_103_S171865_I341870.nii\n",
            "Brain Extracted for image: /content/drive/MyDrive/ADNI/EMCI/ADNI_009_S_4814_MR_MPRAGE_GRAPPA2_br_raw_20130823113404337_174_S198982_I387064.nii\n",
            "Brain Extracted for image: /content/drive/MyDrive/ADNI/EMCI/ADNI_002_S_4473_MR_MPRAGE_SENSE2__br_raw_20120824144430610_120_S162610_I326317.nii\n",
            "Brain Extracted for image: /content/drive/MyDrive/ADNI/EMCI/ADNI_009_S_2381_MR_MPRAGE_GRAPPA2_br_raw_20110825170501855_165_S120377_I252857.nii\n",
            "Brain Extracted for image: /content/drive/MyDrive/ADNI/EMCI/ADNI_002_S_2010_MR_MPRAGE_br_raw_20100625000702005_12_S88111_I180310.nii\n",
            "Brain Extracted for image: /content/drive/MyDrive/ADNI/EMCI/ADNI_002_S_4447_MR_MPRAGE_SENSE2__br_raw_20120117220855417_22_S137136_I278812.nii\n",
            "Brain Extracted for image: /content/drive/MyDrive/ADNI/EMCI/ADNI_006_S_4679_MR_MPRAGE_SENSE2__br_raw_20140627093959841_61_S223090_I433041.nii\n",
            "Brain Extracted for image: /content/drive/MyDrive/ADNI/EMCI/ADNI_002_S_2010_MR_MPRAGE_br_raw_20150813173408642_87_S268731_I505158.nii\n",
            "Brain Extracted for image: /content/drive/MyDrive/ADNI/EMCI/ADNI_022_S_2087_MR_MPRAGE_br_raw_20111121163016348_68_S130326_I267891.nii\n",
            "Brain Extracted for image: /content/drive/MyDrive/ADNI/EMCI/ADNI_018_S_2155_MR_Sagittal_3D_Accelerated_MPRAGE_br_raw_20190917144434221_1_S873684_I1227288.nii\n",
            "Brain Extracted for image: /content/drive/MyDrive/ADNI/EMCI/ADNI_018_S_4597_MR_MPRAGE_SENSE2__br_raw_20120314133918421_145_S143855_I290307.nii\n",
            "Brain Extracted for image: /content/drive/MyDrive/ADNI/EMCI/ADNI_002_S_2010_MR_MPRAGE_br_raw_20110708102746110_70_S114024_I243872.nii\n",
            "Brain Extracted for image: /content/drive/MyDrive/ADNI/EMCI/ADNI_018_S_2180_MR_MPRAGE_br_raw_20120127151227597_141_S138688_I281027.nii\n",
            "Brain Extracted for image: /content/drive/MyDrive/ADNI/EMCI/ADNI_019_S_4680_MR_MPRAGE_br_raw_20130506153323367_138_S188697_I370446.nii\n",
            "Brain Extracted for image: /content/drive/MyDrive/ADNI/EMCI/ADNI_013_S_4768_MR_MPRAGE_br_raw_20120801103027124_3_S158080_I316960.nii\n",
            "Brain Extracted for image: /content/drive/MyDrive/ADNI/EMCI/ADNI_012_S_4987_MR_MPRAGE_br_raw_20130517121210514_1_S189773_I372824.nii\n",
            "Brain Extracted for image: /content/drive/MyDrive/ADNI/EMCI/ADNI_007_S_2394_MR_Accelerated_Sagittal_MPRAGE__br_raw_20200915122320355_179_S957349_I1335884.nii\n",
            "Brain Extracted for image: /content/drive/MyDrive/ADNI/EMCI/ADNI_002_S_2073_MR_MPRAGE_SENSE2__br_raw_20101206185618370_52_S95922_I207659.nii\n",
            "Brain Extracted for image: /content/drive/MyDrive/ADNI/EMCI/ADNI_018_S_2180_MR_Sagittal_3D_Accelerated_MPRAGE_br_raw_20180924151951011_1_S729490_I1051277.nii\n",
            "Brain Extracted for image: /content/drive/MyDrive/ADNI/EMCI/ADNI_019_S_4680_MR_MPRAGE_SENSE2__br_raw_20120712141002051_121_S157402_I316047.nii\n",
            "Brain Extracted for image: /content/drive/MyDrive/ADNI/EMCI/ADNI_022_S_2167_MR_MPRAGE_br_raw_20101213125329678_143_S96319_I208292.nii\n",
            "Brain Extracted for image: /content/drive/MyDrive/ADNI/EMCI/ADNI_009_S_5000_MR_MPRAGE_br_raw_20130212025051968_10_S181993_I358746.nii\n",
            "Brain Extracted for image: /content/drive/MyDrive/ADNI/EMCI/ADNI_009_S_4958_MR_MPRAGE_GRAPPA2_br_raw_20121004143641668_52_S169632_I338119.nii\n",
            "Brain Extracted for image: /content/drive/MyDrive/ADNI/EMCI/ADNI_011_S_4235_MR_MPRAGE_br_raw_20111219125453994_7_S133813_I273063.nii\n",
            "Brain Extracted for image: /content/drive/MyDrive/ADNI/EMCI/ADNI_009_S_4530_MR_MPRAGE_GRAPPA2_br_raw_20120215094059977_35_S140825_I284912.nii\n",
            "Brain Extracted for image: /content/drive/MyDrive/ADNI/EMCI/ADNI_022_S_2087_MR_MPRAGE_GRAPPA2_br_raw_20141028154557585_91_S234905_I449939.nii\n",
            "Brain Extracted for image: /content/drive/MyDrive/ADNI/EMCI/ADNI_018_S_4809_MR_MPRAGE_br_raw_20130625141917193_137_S193272_I378008.nii\n",
            "Brain Extracted for image: /content/drive/MyDrive/ADNI/EMCI/ADNI_018_S_2180_MR_MPRAGE_br_raw_20150108150458740_138_S244682_I467974.nii\n",
            "Brain Extracted for image: /content/drive/MyDrive/ADNI/EMCI/ADNI_002_S_4473_MR_MPRAGE_br_raw_20120210140502262_139_S140453_I283874.nii\n",
            "Brain Extracted for image: /content/drive/MyDrive/ADNI/EMCI/ADNI_012_S_4012_MR_MPRAGE_br_raw_20150508113025039_1_S258835_I491393.nii\n",
            "Brain Extracted for image: /content/drive/MyDrive/ADNI/EMCI/ADNI_007_S_4272_MR_Accelerated_Sagittal_MPRAGE__br_raw_20190108150919153_155_S782654_I1113402.nii\n",
            "Brain Extracted for image: /content/drive/MyDrive/ADNI/EMCI/ADNI_006_S_4679_MR_MPRAGE_SENSE2__br_raw_20120601112727976_84_S152425_I307549.nii\n",
            "Brain Extracted for image: /content/drive/MyDrive/ADNI/EMCI/ADNI_012_S_4849_MR_MPRAGE_br_raw_20130829115050488_1_S199610_I388037.nii\n",
            "Brain Extracted for image: /content/drive/MyDrive/ADNI/EMCI/ADNI_020_S_4619_MR_MPRAGE_br_raw_20120419073120435_94_S147630_I298388.nii\n",
            "Brain Extracted for image: /content/drive/MyDrive/ADNI/EMCI/ADNI_013_S_2389_MR_MPRAGE_br_raw_20121012131118435_25_S170658_I339821.nii\n",
            "Brain Extracted for image: /content/drive/MyDrive/ADNI/EMCI/ADNI_014_S_2308_MR_MPRAGE_GRAPPA2_br_raw_20140515143818244_11_S218675_I424881.nii\n",
            "Brain Extracted for image: /content/drive/MyDrive/ADNI/EMCI/ADNI_002_S_4237_MR_MPRAGE_SENSE2__br_raw_20110927140725894_8_S123711_I258446.nii\n",
            "Brain Extracted for image: /content/drive/MyDrive/ADNI/EMCI/ADNI_009_S_2381_MR_MPRAGE_GRAPPA2_br_raw_20120531181804640_29_S152281_I307372.nii\n",
            "Brain Extracted for image: /content/drive/MyDrive/ADNI/EMCI/ADNI_009_S_2381_MR_MPRAGE_br_raw_20120531181829640_160_S152280_I307370.nii\n",
            "Brain Extracted for image: /content/drive/MyDrive/ADNI/EMCI/ADNI_002_S_2010_MR_MPRAGE_br_raw_20130719094137946_92_S195690_I381525.nii\n",
            "Brain Extracted for image: /content/drive/MyDrive/ADNI/EMCI/ADNI_002_S_4473_MR_MPRAGE_br_raw_20150218145441278_108_S249137_I473877.nii\n",
            "Brain Extracted for image: /content/drive/MyDrive/ADNI/EMCI/ADNI_012_S_4012_MR_MPRAGE_br_raw_20120529110923733_1_S151703_I306579.nii\n",
            "Brain Extracted for image: /content/drive/MyDrive/ADNI/EMCI/ADNI_003_S_2374_MR_Accelerated_Sagittal_MPRAGE__br_raw_20181217100135040_24_S761375_I1090114.nii\n",
            "Brain Extracted for image: /content/drive/MyDrive/ADNI/EMCI/ADNI_011_S_2274_MR_MPRAGE_br_raw_20130207092138181_117_S181712_I358328.nii\n",
            "Brain Extracted for image: /content/drive/MyDrive/ADNI/EMCI/ADNI_002_S_4473_MR_MPRAGE_br_raw_20120518102811871_96_S151001_I305237.nii\n",
            "Brain Extracted for image: /content/drive/MyDrive/ADNI/EMCI/ADNI_014_S_2308_MR_MPRAGE_GRAPPA2_br_raw_20110908120801088_122_S121481_I255109.nii\n",
            "Brain Extracted for image: /content/drive/MyDrive/ADNI/EMCI/ADNI_002_S_4799_MR_MPRAGE_SENSE2__br_raw_20130111103040167_139_S180022_I354816.nii\n",
            "Brain Extracted for image: /content/drive/MyDrive/ADNI/EMCI/ADNI_012_S_4188_MR_Accelerated_Sagittal_MPRAGE__br_raw_20170919111423615_22_S609790_I905421.nii\n",
            "Brain Extracted for image: /content/drive/MyDrive/ADNI/EMCI/ADNI_009_S_4814_MR_MPRAGE_br_raw_20130823114239884_26_S198986_I387070.nii\n",
            "Brain Extracted for image: /content/drive/MyDrive/ADNI/EMCI/ADNI_002_S_2073_MR_MPRAGE_SENSE2__br_raw_20120911111932772_75_S166927_I332884.nii\n",
            "Brain Extracted for image: /content/drive/MyDrive/ADNI/EMCI/ADNI_012_S_4128_MR_MPRAGE_br_raw_20130812125420385_1_S197612_I385089.nii\n",
            "Brain Extracted for image: /content/drive/MyDrive/ADNI/EMCI/ADNI_012_S_4012_MR_MPRAGE_br_raw_20130517162723965_1_S189872_I372940.nii\n",
            "Brain Extracted for image: /content/drive/MyDrive/ADNI/EMCI/ADNI_011_S_2274_MR_MPRAGE_GRAPPA2_br_raw_20130207092133743_169_S181713_I358329.nii\n",
            "Brain Extracted for image: /content/drive/MyDrive/ADNI/EMCI/ADNI_012_S_4188_MR_MPRAGE_SENSE2__br_raw_20120925174041437_1_S168713_I336737.nii\n",
            "Brain Extracted for image: /content/drive/MyDrive/ADNI/EMCI/ADNI_011_S_4547_MR_MPRAGE_br_raw_20160401090031583_41_S407130_I667644.nii\n",
            "Brain Extracted for image: /content/drive/MyDrive/ADNI/EMCI/ADNI_011_S_4547_MR_MPRAGE_GRAPPA2_br_raw_20160401090023768_125_S407129_I667646.nii\n",
            "Brain Extracted for image: /content/drive/MyDrive/ADNI/EMCI/ADNI_011_S_4547_MR_Accelerated_Sagittal_MPRAGE__br_raw_20170821092713323_170_S598925_I892709.nii\n",
            "Brain Extracted for image: /content/drive/MyDrive/ADNI/EMCI/ADNI_009_S_5000_MR_MPRAGE_GRAPPA2_br_raw_20130701161708187_139_S193858_I378893.nii\n",
            "Brain Extracted for image: /content/drive/MyDrive/ADNI/EMCI/ADNI_018_S_2155_MR_MPRAGE_br_raw_20141218135229569_112_S243223_I466107.nii\n",
            "Brain Extracted for image: /content/drive/MyDrive/ADNI/EMCI/ADNI_014_S_2308_MR_MPRAGE_GRAPPA2_br_raw_20130411134238690_85_S186728_I366551.nii\n",
            "Brain Extracted for image: /content/drive/MyDrive/ADNI/EMCI/ADNI_014_S_2308_MR_Accelerated_Sagittal_MPRAGE__br_raw_20170902083709918_137_S604746_I899456.nii\n",
            "Brain Extracted for image: /content/drive/MyDrive/ADNI/EMCI/ADNI_002_S_4473_MR_MPRAGE_br_raw_20160311133525980_134_S392710_I651399.nii\n",
            "Brain Extracted for image: /content/drive/MyDrive/ADNI/EMCI/ADNI_018_S_2180_MR_Sagittal_3D_Accelerated_MPRAGE_br_raw_20201104090359637_64_S972921_I1360538.nii\n",
            "Brain Extracted for image: /content/drive/MyDrive/ADNI/EMCI/ADNI_002_S_4447_MR_MPRAGE_SENSE2__br_raw_20120815095636599_73_S160854_I323841.nii\n",
            "Brain Extracted for image: /content/drive/MyDrive/ADNI/EMCI/ADNI_002_S_4473_MR_MPRAGE_SENSE2__br_raw_20130207125321865_156_S181763_I358427.nii\n",
            "Brain Extracted for image: /content/drive/MyDrive/ADNI/EMCI/ADNI_018_S_4868_MR_Sagittal_3D_Accelerated_MPRAGE_br_raw_20170914104819082_1_S607634_I902899.nii\n",
            "Brain Extracted for image: /content/drive/MyDrive/ADNI/EMCI/ADNI_011_S_4893_MR_MPRAGE_br_raw_20120911091508209_23_S166795_I332728.nii\n",
            "Brain Extracted for image: /content/drive/MyDrive/ADNI/EMCI/ADNI_002_S_4799_MR_MPRAGE_br_raw_20130111103547235_63_S180023_I354817.nii\n",
            "Brain Extracted for image: /content/drive/MyDrive/ADNI/EMCI/ADNI_013_S_4917_MR_MPRAGE_br_raw_20121126123010925_154_S175379_I347712.nii\n",
            "Brain Extracted for image: /content/drive/MyDrive/ADNI/EMCI/ADNI_006_S_4679_MR_MPRAGE_br_raw_20120914132929943_49_S167545_I334232.nii\n",
            "Brain Extracted for image: /content/drive/MyDrive/ADNI/EMCI/ADNI_002_S_2073_MR_MPRAGE_SENSE2__br_raw_20110309120817329_59_S101319_I223329.nii\n",
            "Brain Extracted for image: /content/drive/MyDrive/ADNI/EMCI/ADNI_013_S_4268_MR_MPRAGE_br_raw_20111102113957291_58_S127831_I264420.nii\n",
            "Brain Extracted for image: /content/drive/MyDrive/ADNI/EMCI/ADNI_009_S_2208_MR_MPRAGE_br_raw_20131226164034672_105_S209447_I403613.nii\n",
            "Brain Extracted for image: /content/drive/MyDrive/ADNI/EMCI/ADNI_013_S_2324_MR_MPRAGE_SENSE2__br_raw_20111018125618644_94_S125571_I261314.nii\n",
            "Brain Extracted for image: /content/drive/MyDrive/ADNI/EMCI/ADNI_009_S_2381_MR_MPRAGE_br_raw_20110825170526013_116_S120378_I252859.nii\n",
            "Brain Extracted for image: /content/drive/MyDrive/ADNI/EMCI/ADNI_014_S_4328_MR_MPRAGE_br_raw_20120419125612034_7_S147725_I298546.nii\n",
            "Brain Extracted for image: /content/drive/MyDrive/ADNI/EMCI/ADNI_014_S_4328_MR_MPRAGE_GRAPPA2_br_raw_20121108125354895_87_S173784_I345535.nii\n",
            "Brain Extracted for image: /content/drive/MyDrive/ADNI/EMCI/ADNI_011_S_4893_MR_MPRAGE_GRAPPA2_br_raw_20140522165014032_21_S219214_I425706.nii\n",
            "Brain Extracted for image: /content/drive/MyDrive/ADNI/EMCI/ADNI_018_S_2180_MR_MPRAGE_SENSE2__br_raw_20101209104656193_163_S96131_I207988.nii\n",
            "Brain Extracted for image: /content/drive/MyDrive/ADNI/EMCI/ADNI_011_S_2274_MR_MPRAGE_GRAPPA2_br_raw_20110204092059215_164_S98916_I215804.nii\n",
            "Brain Extracted for image: /content/drive/MyDrive/ADNI/EMCI/ADNI_002_S_4237_MR_MPRAGE_SENSE2__br_raw_20120522102323537_154_S149133_I301771.nii\n",
            "Brain Extracted for image: /content/drive/MyDrive/ADNI/EMCI/ADNI_014_S_2308_MR_MPRAGE_GRAPPA2_br_raw_20110217125449534_116_S100035_I217964.nii\n",
            "Brain Extracted for image: /content/drive/MyDrive/ADNI/EMCI/ADNI_012_S_4012_MR_MPRAGE_SENSE2__br_raw_20111110113801562_1_S128842_I265867.nii\n",
            "Brain Extracted for image: /content/drive/MyDrive/ADNI/EMCI/ADNI_012_S_4128_MR_MPRAGE_SENSE2__br_raw_20111109165634718_1_S128546_I265527.nii\n",
            "Brain Extracted for image: /content/drive/MyDrive/ADNI/EMCI/ADNI_009_S_4958_MR_MPRAGE_GRAPPA2_br_raw_20130417170932379_67_S187258_I367649.nii\n",
            "Brain Extracted for image: /content/drive/MyDrive/ADNI/EMCI/ADNI_019_S_4285_MR_MPRAGE_br_raw_20120111115300207_123_S135996_I277288.nii\n",
            "Brain Extracted for image: /content/drive/MyDrive/ADNI/EMCI/ADNI_012_S_4188_MR_Accelerated_Sagittal_MPRAGE__br_raw_20190904135645228_36_S870351_I1223061.nii\n",
            "Brain Extracted for image: /content/drive/MyDrive/ADNI/EMCI/ADNI_002_S_4447_MR_MPRAGE_SENSE2__br_raw_20150205120755163_39_S247818_I472276.nii\n",
            "Brain Extracted for image: /content/drive/MyDrive/ADNI/EMCI/ADNI_007_S_2394_MR_Accelerated_Sagittal_MPRAGE__br_raw_20180820104932117_54_S718449_I1037903.nii\n",
            "Brain Extracted for image: /content/drive/MyDrive/ADNI/EMCI/ADNI_014_S_2308_MR_Accelerated_Sagittal_MPRAGE_ND_br_raw_20210127083948983_27_S996096_I1403920.nii\n",
            "Brain Extracted for image: /content/drive/MyDrive/ADNI/EMCI/ADNI_002_S_2043_MR_MPRAGE_SENSE2__br_raw_20101208163032783_71_S96110_I207958.nii\n",
            "Brain Extracted for image: /content/drive/MyDrive/ADNI/EMCI/ADNI_013_S_2389_MR_MPRAGE_SENSE2__br_raw_20121012131028670_53_S170659_I339823.nii\n",
            "Brain Extracted for image: /content/drive/MyDrive/ADNI/EMCI/ADNI_018_S_2180_MR_Sagittal_3D_Accelerated_MPRAGE_br_raw_20170927125301881_1_S614328_I910675.nii\n",
            "Brain Extracted for image: /content/drive/MyDrive/ADNI/EMCI/ADNI_009_S_2208_MR_MPRAGE_GRAPPA2_br_raw_20110304114450557_21_S100906_I222439.nii\n",
            "Brain Extracted for image: /content/drive/MyDrive/ADNI/EMCI/ADNI_012_S_4128_MR_MPRAGE_SENSE2__br_raw_20110802144335028_45_S117119_I248238.nii\n",
            "Brain Extracted for image: /content/drive/MyDrive/ADNI/EMCI/ADNI_013_S_2389_MR_MPRAGE_br_raw_20120224115824165_138_S141701_I286423.nii\n",
            "Brain Extracted for image: /content/drive/MyDrive/ADNI/EMCI/ADNI_002_S_2073_MR_MPRAGE_br_raw_20120206144016410_22_S123040_I257483.nii\n",
            "Brain Extracted for image: /content/drive/MyDrive/ADNI/EMCI/ADNI_018_S_4868_MR_MPRAGE_br_raw_20130222123119021_31_S181881_I358605.nii\n",
            "Brain Extracted for image: /content/drive/MyDrive/ADNI/EMCI/ADNI_014_S_4328_MR_MPRAGE_br_raw_20121108125406222_9_S173781_I345532.nii\n",
            "Brain Extracted for image: /content/drive/MyDrive/ADNI/EMCI/ADNI_018_S_2155_MR_Sagittal_3D_Accelerated_MPRAGE_br_raw_20180828152819566_1_S723052_I1043303.nii\n",
            "Brain Extracted for image: /content/drive/MyDrive/ADNI/EMCI/ADNI_022_S_2087_MR_MPRAGE_br_raw_20121105103740205_2_S173184_I343800.nii\n",
            "Brain Extracted for image: /content/drive/MyDrive/ADNI/EMCI/ADNI_013_S_4917_MR_MPRAGE_SENSE2__br_raw_20130916182449880_162_S200995_I390417.nii\n",
            "Brain Extracted for image: /content/drive/MyDrive/ADNI/EMCI/ADNI_009_S_2381_MR_MPRAGE_GRAPPA2_br_raw_20111211132109875_131_S132605_I271117.nii\n",
            "Brain Extracted for image: /content/drive/MyDrive/ADNI/EMCI/ADNI_011_S_4893_MR_MPRAGE_br_raw_20130405151215244_88_S186140_I365761.nii\n",
            "Brain Extracted for image: /content/drive/MyDrive/ADNI/EMCI/ADNI_002_S_2073_MR_MPRAGE_SENSE2__br_raw_20161003151826299_55_S503310_I780965.nii\n",
            "Brain Extracted for image: /content/drive/MyDrive/ADNI/EMCI/ADNI_018_S_2155_MR_Sagittal_3D_Accelerated_MPRAGE_br_raw_20201029170616713_31_S972271_I1358585.nii\n",
            "Brain Extracted for image: /content/drive/MyDrive/ADNI/EMCI/ADNI_018_S_2138_MR_MPRAGE_br_raw_20110908143725654_157_S121497_I255134.nii\n",
            "Brain Extracted for image: /content/drive/MyDrive/ADNI/EMCI/ADNI_002_S_4473_MR_MPRAGE_SENSE2__br_raw_20120210140854185_109_S140458_I283881.nii\n",
            "Brain Extracted for image: /content/drive/MyDrive/ADNI/EMCI/ADNI_013_S_2389_MR_MPRAGE_br_raw_20110920161639189_36_S122818_I257110.nii\n"
          ],
          "name": "stdout"
        }
      ]
    },
    {
      "cell_type": "markdown",
      "metadata": {
        "id": "ByZoHz_SmjHC"
      },
      "source": [
        "Splitting the MRI scans from Miriad into AD and CN"
      ]
    },
    {
      "cell_type": "code",
      "metadata": {
        "id": "hm7YjbXMmiHZ"
      },
      "source": [
        "directory = '/content/drive/MyDrive/Miriad1'\n",
        "\n",
        "for filename in os.listdir(directory):\n",
        "  if 'HC'in filename:\n",
        "    d1=directory+\"/\"+filename\n",
        "    d2=\"/content/drive/MyDrive/Miriad1/CN/\"+filename\n",
        "    os.rename(d1, d2)\n",
        "    continue\n",
        "  else:\n",
        "    continue"
      ],
      "execution_count": null,
      "outputs": []
    },
    {
      "cell_type": "code",
      "metadata": {
        "id": "CQFfFdt2mzq3"
      },
      "source": [
        "directory = '/content/drive/MyDrive/Miriad1'\n",
        "\n",
        "for filename in os.listdir(directory):\n",
        "  if 'AD'in filename:\n",
        "    d1=directory+\"/\"+filename\n",
        "    d2=\"/content/drive/MyDrive/Miriad1/AD/\"+filename\n",
        "    os.rename(d1, d2)\n",
        "    continue\n",
        "  else:\n",
        "    continue"
      ],
      "execution_count": null,
      "outputs": []
    },
    {
      "cell_type": "markdown",
      "metadata": {
        "id": "PbWdhzJpwdgd"
      },
      "source": [
        "Extracting the sagittal, coronal and axial planes"
      ]
    },
    {
      "cell_type": "markdown",
      "metadata": {
        "id": "PPGFBE6CAS7q"
      },
      "source": [
        "Miriad"
      ]
    },
    {
      "cell_type": "code",
      "metadata": {
        "id": "3wKDGkjcmsIn"
      },
      "source": [
        "\n",
        "\n",
        "directory='/content/drive/MyDrive/Miriad/AD'\n",
        "\n",
        "for filename in os.listdir(directory):\n",
        "  if filename.endswith(\".nii\"):\n",
        "    file=directory+\"/\"+filename \n",
        "    name=filename[:-4]\n",
        "    newpath = '/content/drive/MyDrive/MiriadPics/AD/'+name \n",
        "    if not os.path.exists(newpath):\n",
        "      os.makedirs(newpath)\n",
        "      anatomy_img = nib.load(file)\n",
        "      img_numpy = anatomy_img.get_fdata()\n",
        "      img_numpy=np.asarray(img_numpy)\n",
        "\n",
        "      n_i, n_j, n_k = img_numpy.shape\n",
        "\n",
        "      # sagittal\n",
        "      center_i1 = int((n_i-1) / 2)\n",
        "      # axial \n",
        "      center_j1 = int((n_j-1) / 2)\n",
        "      # coronal\n",
        "      center_k1 = int((n_k-1) / 2)\n",
        "\n",
        "      img_numpy = img_numpy[:,:,:,0]\n",
        "      cv2.imwrite(newpath+'/'+'x_'+name+'.png', img_numpy[center_i1, :, :])\n",
        "\n",
        "      cv2.imwrite(newpath+'/'+'y_'+name+'.png', img_numpy[:, center_j1, :])\n",
        "  \n",
        "      cv2.imwrite(newpath+'/'+'z_'+name+'.png', img_numpy[:, :, center_k1])\n",
        "\n",
        "      cv2.waitKey(0)"
      ],
      "execution_count": null,
      "outputs": []
    },
    {
      "cell_type": "markdown",
      "metadata": {
        "id": "M1QDS49PAREo"
      },
      "source": [
        "ADNI"
      ]
    },
    {
      "cell_type": "code",
      "metadata": {
        "id": "g6aroKULfzly"
      },
      "source": [
        "directory='/content/drive/MyDrive/ADNI/EMCI'\n",
        "\n",
        "for filename in os.listdir(directory):\n",
        "  if filename.endswith(\".nii\"):\n",
        "    file=directory+\"/\"+filename \n",
        "    name=filename[:-4]\n",
        "    newpath = '/content/drive/MyDrive/ADNIPics/EMCI/'+name \n",
        "    if not os.path.exists(newpath):\n",
        "      os.makedirs(newpath)\n",
        "      anatomy_img = nib.load(file)\n",
        "      img_numpy = anatomy_img.get_fdata()\n",
        "      img_numpy=np.asarray(img_numpy)\n",
        "\n",
        "      n_i, n_j, n_k, r = img_numpy.shape\n",
        "\n",
        "      # saggital\n",
        "      center_i1 = int((n_i-1) / 2)\n",
        "      # coronal\n",
        "      center_j1 = int((n_j-1) / 2)\n",
        "      # axial \n",
        "      center_k1 = int((n_k-1) / 2)\n",
        "\n",
        "      img_numpy = img_numpy[:,:,:,0]\n",
        "      \n",
        "      plt.imsave(newpath+'/'+'x_'+name+'.png',img_numpy[center_i1, :, :],cmap=\"gray\")\n",
        "\n",
        "      plt.imsave(newpath+'/'+'z_'+name+'.png',img_numpy[:, center_j1, :],cmap=\"gray\")\n",
        "      \n",
        "      plt.imsave(newpath+'/'+'y_'+name+'.png',img_numpy[:, :, center_k1],cmap=\"gray\")"
      ],
      "execution_count": null,
      "outputs": []
    },
    {
      "cell_type": "markdown",
      "metadata": {
        "id": "vtVEK4H3n2Ui"
      },
      "source": [
        "Combining Miriad and ADNI AD category"
      ]
    },
    {
      "cell_type": "code",
      "metadata": {
        "id": "sfX2WjM9oFGZ"
      },
      "source": [
        "directory = '/content/drive/MyDrive/ADNIPics/AD'\n",
        "\n",
        "for filename in os.listdir(directory):\n",
        "  d1=directory+\"/\"+filename\n",
        "  d2=\"/content/drive/MyDrive/MRIPics/AD/\"+filename\n",
        "  shutil.copytree(d1, d2)"
      ],
      "execution_count": null,
      "outputs": []
    },
    {
      "cell_type": "code",
      "metadata": {
        "id": "JGq2m4VhoHkL"
      },
      "source": [
        "directory = '/content/drive/MyDrive/MiriadPics/AD'\n",
        "\n",
        "for filename in os.listdir(directory):\n",
        "  d1=directory+\"/\"+filename\n",
        "  d2=\"/content/drive/MyDrive/MRIPics/AD/\"+filename\n",
        "  shutil.copytree(d1, d2)"
      ],
      "execution_count": null,
      "outputs": []
    },
    {
      "cell_type": "markdown",
      "metadata": {
        "id": "VSosA8XpKsK7"
      },
      "source": [
        "Data Augmention on Miriad CN"
      ]
    },
    {
      "cell_type": "code",
      "metadata": {
        "id": "js5RYVdiKrfR"
      },
      "source": [
        "directory = '/content/drive/MyDrive/MiriadPics/CN'\n",
        "\n",
        "for filename in os.listdir(directory):\n",
        "  d1=directory+\"/\"+filename\n",
        "  d2=\"/content/drive/MyDrive/MiriadPics/CN/\"+'_copy_'+filename\n",
        "  shutil.copytree(d1, d2)\n"
      ],
      "execution_count": null,
      "outputs": []
    },
    {
      "cell_type": "code",
      "metadata": {
        "id": "Q16DKgZ5Ve_m"
      },
      "source": [
        "directory = '/content/drive/MyDrive/MiriadPics/CN'\n",
        "\n",
        "for filename in os.listdir(directory):\n",
        "  if 'copy' in filename:\n",
        "    file=os.path.join(directory,filename)\n",
        "    for f in os.listdir(file):\n",
        "    #plt.figure(figsize=(10, 10))\n",
        "      ffile=os.path.join(file,f)\n",
        "      loader_transform = transforms.Compose([\n",
        "      transforms.RandomRotation(30),\n",
        "      #transforms.RandomResizedCrop(140),\n",
        "      transforms.RandomHorizontalFlip()\n",
        "      ])\n",
        "      img = PIL.Image.open(ffile)\n",
        "      img = loader_transform(img)\n",
        "      #cv2.imwrite(ffile, img)\n",
        "      plt.imsave(ffile,img,cmap=\"gray\")\n",
        "      plt.imshow(img, cmap=\"gray\")\n",
        "      plt.show()"
      ],
      "execution_count": null,
      "outputs": []
    },
    {
      "cell_type": "markdown",
      "metadata": {
        "id": "nP9IJ10Dn9IH"
      },
      "source": [
        "Combining Miriad and ADNI CN category"
      ]
    },
    {
      "cell_type": "code",
      "metadata": {
        "id": "u26V3cJToR60"
      },
      "source": [
        "directory = '/content/drive/MyDrive/ADNIPics/CN'\n",
        "\n",
        "for filename in os.listdir(directory):\n",
        "  d1=directory+\"/\"+filename\n",
        "  d2=\"/content/drive/MyDrive/MRIPics/CN/\"+filename\n",
        "  shutil.copytree(d1, d2)"
      ],
      "execution_count": null,
      "outputs": []
    },
    {
      "cell_type": "code",
      "metadata": {
        "id": "w3cgqfedoVyL"
      },
      "source": [
        "directory = '/content/drive/MyDrive/MiriadPics/CN'\n",
        "\n",
        "for filename in os.listdir(directory):\n",
        "  d1=directory+\"/\"+filename\n",
        "  d2=\"/content/drive/MyDrive/MRIPics/CN/\"+filename\n",
        "  shutil.copytree(d1, d2)"
      ],
      "execution_count": null,
      "outputs": []
    },
    {
      "cell_type": "markdown",
      "metadata": {
        "id": "w7YDm0ViUxOM"
      },
      "source": [
        "Combining EMCI and LMCI to create the MCI catergory"
      ]
    },
    {
      "cell_type": "code",
      "metadata": {
        "id": "8YF-Owq3UwYP"
      },
      "source": [
        "directory = '/content/drive/MyDrive/ADNIPics/EMCI'\n",
        "\n",
        "for filename in os.listdir(directory):\n",
        "  d1=directory+\"/\"+filename\n",
        "  d2=\"/content/drive/MyDrive/MRIPics/MCI/\"+filename\n",
        "  shutil.copytree(d1, d2)"
      ],
      "execution_count": null,
      "outputs": []
    },
    {
      "cell_type": "code",
      "metadata": {
        "id": "QdECHKGenrVF"
      },
      "source": [
        "directory = '/content/drive/MyDrive/ADNIPics/LMCI'\n",
        "\n",
        "for filename in os.listdir(directory):\n",
        "  d1=directory+\"/\"+filename\n",
        "  d2=\"/content/drive/MyDrive/MRIPics/MCI/\"+filename\n",
        "  shutil.copytree(d1, d2)"
      ],
      "execution_count": null,
      "outputs": []
    },
    {
      "cell_type": "markdown",
      "metadata": {
        "id": "HpZwuFCBZG8E"
      },
      "source": [
        "Moving EMCI and LMCI into their own direcctory"
      ]
    },
    {
      "cell_type": "code",
      "metadata": {
        "id": "oL11VJSpZC16"
      },
      "source": [
        "import shutil\n",
        "\n",
        "directory = '/content/drive/MyDrive/ADNIPics/EMCI'\n",
        "\n",
        "for filename in os.listdir(directory):\n",
        "  d1=directory+\"/\"+filename \n",
        "  #name=filename[:-4]\n",
        "  d2='/content/drive/MyDrive/MCIPics/EMCI/'+filename \n",
        "  shutil.copytree(d1, d2)"
      ],
      "execution_count": null,
      "outputs": []
    },
    {
      "cell_type": "code",
      "metadata": {
        "id": "R7lUXNAPRBRe"
      },
      "source": [
        "import shutil\n",
        "\n",
        "directory = '/content/drive/MyDrive/ADNIPics/LMCI'\n",
        "\n",
        "for filename in os.listdir(directory):\n",
        "  d1=directory+\"/\"+filename \n",
        "  #name=filename[:-4]\n",
        "  d2='/content/drive/MyDrive/MCIPics/LMCI/'+filename \n",
        "  shutil.copytree(d1, d2)"
      ],
      "execution_count": null,
      "outputs": []
    },
    {
      "cell_type": "markdown",
      "metadata": {
        "id": "iBBn8P6pVtN-"
      },
      "source": [
        "##Data Analysis"
      ]
    },
    {
      "cell_type": "code",
      "metadata": {
        "id": "AuBJe-v-Vx4f",
        "colab": {
          "base_uri": "https://localhost:8080/"
        },
        "outputId": "71be75eb-a06e-4bd9-bcaa-463f905c1c42"
      },
      "source": [
        "directory = '/content/drive/MyDrive/MRIPics/AD'\n",
        "i=0\n",
        "for filename in os.listdir(directory):\n",
        "  i=i+1\n",
        "print(\"AD:\",i)\n",
        "\n",
        "directory = '/content/drive/MyDrive/MRIPics/CN'\n",
        "i=0\n",
        "for filename in os.listdir(directory):\n",
        "  i=i+1\n",
        "print(\"CN :\",i)\n",
        "\n",
        "directory = '/content/drive/MyDrive/MRIPics/MCI'\n",
        "i=0\n",
        "for filename in os.listdir(directory):\n",
        "  i=i+1\n",
        "print(\"MCI:\",i)\n",
        "\n",
        "directory = '/content/drive/MyDrive/MCIPics/EMCI'\n",
        "i=0\n",
        "for filename in os.listdir(directory):\n",
        "  i=i+1\n",
        "print(\"EMCI:\",i)\n",
        "\n",
        "directory = '/content/drive/MyDrive/MCIPics/LMCI'\n",
        "i=0\n",
        "for filename in os.listdir(directory):\n",
        "  i=i+1\n",
        "print(\"LMCI:\",i)"
      ],
      "execution_count": null,
      "outputs": [
        {
          "output_type": "stream",
          "text": [
            "AD: 925\n",
            "CN : 986\n",
            "MCI: 1000\n",
            "EMCI: 500\n",
            "LMCI: 500\n"
          ],
          "name": "stdout"
        }
      ]
    },
    {
      "cell_type": "markdown",
      "metadata": {
        "id": "1WSv1Q3EClJH"
      },
      "source": [
        "#Plotting\n"
      ]
    },
    {
      "cell_type": "markdown",
      "metadata": {
        "id": "5FVeEk_9Cuua"
      },
      "source": [
        "##Figure 1: Views for Disease Classification"
      ]
    },
    {
      "cell_type": "code",
      "metadata": {
        "colab": {
          "base_uri": "https://localhost:8080/",
          "height": 401
        },
        "id": "LMtVJQWaCEiY",
        "outputId": "e673f8df-c4f0-42dc-c983-a209ec129329"
      },
      "source": [
        "path='/content/drive/MyDrive/MRIPics/'\n",
        "width = 160\n",
        "height = 160\n",
        "dim = (width, height)\n",
        "\n",
        "\n",
        "for filename in os.listdir(path):\n",
        "  folder=os.path.join(path,filename)\n",
        "  random_file=random.choice(os.listdir(folder))\n",
        "  file=os.path.join(folder,random_file)\n",
        "  i=0\n",
        "  p,axarr=plt.subplots(1,3)\n",
        "  for f in os.listdir(file):\n",
        "    \n",
        "    #plt.figure(figsize=(10, 10))\n",
        "    ffile=os.path.join(file,f)\n",
        "    image = cv2.imread(ffile)\n",
        "    image = cv2.resize(image, dim, interpolation = cv2.INTER_AREA)\n",
        "    #image = cv2.cvtColor(image, cv2.COLOR_BGR2GRAY)\n",
        "    \n",
        "    axarr[i].imshow(image)\n",
        "    axarr[i].set_title(filename)\n",
        "    \n",
        "    axarr[i].axis(\"off\")\n",
        "    i+=1\n",
        "    #plt.show()\n",
        "\n",
        "\n"
      ],
      "execution_count": null,
      "outputs": [
        {
          "output_type": "display_data",
          "data": {
            "image/png": "[encoded data removed]",
            "text/plain": [
              "<Figure size 432x288 with 3 Axes>"
            ]
          },
          "metadata": {
            "tags": [],
            "needs_background": "light"
          }
        },
        {
          "output_type": "display_data",
          "data": {
            "image/png": "[encoded data removed]",
            "text/plain": [
              "<Figure size 432x288 with 3 Axes>"
            ]
          },
          "metadata": {
            "tags": [],
            "needs_background": "light"
          }
        },
        {
          "output_type": "display_data",
          "data": {
            "image/png": "[encoded data removed]",
            "text/plain": [
              "<Figure size 432x288 with 3 Axes>"
            ]
          },
          "metadata": {
            "tags": [],
            "needs_background": "light"
          }
        }
      ]
    },
    {
      "cell_type": "markdown",
      "metadata": {
        "id": "8F9nHEBA41BN"
      },
      "source": [
        "##Figure 2: Views for MCI classification"
      ]
    },
    {
      "cell_type": "code",
      "metadata": {
        "colab": {
          "base_uri": "https://localhost:8080/",
          "height": 273
        },
        "id": "Jj1XoTAl5PBA",
        "outputId": "c7a7ea61-149f-4586-e865-0f767774496b"
      },
      "source": [
        "path='/content/drive/MyDrive/MCIPics/'\n",
        "width = 160\n",
        "height = 160\n",
        "dim = (width, height)\n",
        "\n",
        "\n",
        "for filename in os.listdir(path):\n",
        "  folder=os.path.join(path,filename)\n",
        "  random_file=random.choice(os.listdir(folder))\n",
        "  file=os.path.join(folder,random_file)\n",
        "  i=0\n",
        "  p,axarr=plt.subplots(1,3)\n",
        "  for f in os.listdir(file):\n",
        "    \n",
        "    #plt.figure(figsize=(10, 10))\n",
        "    ffile=os.path.join(file,f)\n",
        "    image = cv2.imread(ffile)\n",
        "    image = cv2.resize(image, dim, interpolation = cv2.INTER_AREA)\n",
        "    #image = cv2.cvtColor(image, cv2.COLOR_BGR2GRAY)\n",
        "    \n",
        "    axarr[i].imshow(image)\n",
        "    axarr[i].set_title(filename)\n",
        "    \n",
        "    axarr[i].axis(\"off\")\n",
        "    i+=1\n",
        "    #plt.show()"
      ],
      "execution_count": null,
      "outputs": [
        {
          "output_type": "display_data",
          "data": {
            "image/png": "[encoded data removed]",
            "text/plain": [
              "<Figure size 432x288 with 3 Axes>"
            ]
          },
          "metadata": {
            "tags": [],
            "needs_background": "light"
          }
        },
        {
          "output_type": "display_data",
          "data": {
            "image/png": "[encoded data removed]",
            "text/plain": [
              "<Figure size 432x288 with 3 Axes>"
            ]
          },
          "metadata": {
            "tags": [],
            "needs_background": "light"
          }
        }
      ]
    },
    {
      "cell_type": "markdown",
      "metadata": {
        "id": "UYqISNGntSch"
      },
      "source": [
        "##Figure 3: Features for Disease Classification"
      ]
    },
    {
      "cell_type": "code",
      "metadata": {
        "colab": {
          "base_uri": "https://localhost:8080/",
          "height": 251
        },
        "id": "uUAWpZgqtZja",
        "outputId": "52d8ccbf-9f88-4c77-81f4-7db1bed5c783"
      },
      "source": [
        "path='/content/drive/MyDrive/MRIPics/'\n",
        "width = 160\n",
        "height = 160\n",
        "dim = (width, height)\n",
        "\n",
        "\n",
        "for filename in os.listdir(path):\n",
        "  folder=os.path.join(path,filename)\n",
        "  random_file=random.choice(os.listdir(folder))\n",
        "  file=os.path.join(folder,random_file)\n",
        "  i=0\n",
        "  p,axarr=plt.subplots(1,6)\n",
        "  for f in os.listdir(file):\n",
        "    \n",
        "    #plt.figure(figsize=(10, 10))\n",
        "    ffile=os.path.join(file,f)\n",
        "    image = cv2.imread(ffile)\n",
        "    image = cv2.resize(image, dim, interpolation = cv2.INTER_AREA)\n",
        "    gray= cv2.cvtColor(image,cv2.COLOR_BGR2GRAY)\n",
        "    #kp = sift.detect(gray,None)\n",
        "    sift = cv2.SIFT_create()\n",
        "    kp, des = sift.detectAndCompute(gray,None)\n",
        "    img=cv2.drawKeypoints(gray,kp,image.copy())\n",
        "    #image = cv2.cvtColor(image, cv2.COLOR_BGR2GRAY)\n",
        "    axarr[i].imshow(image)\n",
        "    axarr[i].set_title(filename)\n",
        "    axarr[i].axis(\"off\")\n",
        "    i+=1\n",
        "    axarr[i].imshow(img)\n",
        "    axarr[i].set_title(filename)\n",
        "    \n",
        "    axarr[i].axis(\"off\")\n",
        "    i+=1"
      ],
      "execution_count": null,
      "outputs": [
        {
          "output_type": "display_data",
          "data": {
            "image/png": "[encoded data removed]",
            "text/plain": [
              "<Figure size 432x288 with 6 Axes>"
            ]
          },
          "metadata": {
            "tags": [],
            "needs_background": "light"
          }
        },
        {
          "output_type": "display_data",
          "data": {
            "image/png": "[encoded data removed]",
            "text/plain": [
              "<Figure size 432x288 with 6 Axes>"
            ]
          },
          "metadata": {
            "tags": [],
            "needs_background": "light"
          }
        },
        {
          "output_type": "display_data",
          "data": {
            "image/png": "[encoded data removed]",
            "text/plain": [
              "<Figure size 432x288 with 6 Axes>"
            ]
          },
          "metadata": {
            "tags": [],
            "needs_background": "light"
          }
        }
      ]
    },
    {
      "cell_type": "markdown",
      "metadata": {
        "id": "c1qn92Dd5Aip"
      },
      "source": [
        "##Figure 4: Features for MCI classification"
      ]
    },
    {
      "cell_type": "code",
      "metadata": {
        "colab": {
          "base_uri": "https://localhost:8080/",
          "height": 173
        },
        "id": "2_krmqrT5alF",
        "outputId": "fdabe7f1-b980-4ff2-8395-c467f6b3fa7f"
      },
      "source": [
        "path='/content/drive/MyDrive/MCIPics/'\n",
        "width = 160\n",
        "height = 160\n",
        "dim = (width, height)\n",
        "\n",
        "\n",
        "for filename in os.listdir(path):\n",
        "  folder=os.path.join(path,filename)\n",
        "  random_file=random.choice(os.listdir(folder))\n",
        "  file=os.path.join(folder,random_file)\n",
        "  i=0\n",
        "  p,axarr=plt.subplots(1,6)\n",
        "  for f in os.listdir(file):\n",
        "    \n",
        "    #plt.figure(figsize=(10, 10))\n",
        "    ffile=os.path.join(file,f)\n",
        "    image = cv2.imread(ffile)\n",
        "    image = cv2.resize(image, dim, interpolation = cv2.INTER_AREA)\n",
        "    gray= cv2.cvtColor(image,cv2.COLOR_BGR2GRAY)\n",
        "    #kp = sift.detect(gray,None)\n",
        "    sift = cv2.SIFT_create()\n",
        "    kp, des = sift.detectAndCompute(gray,None)\n",
        "    img=cv2.drawKeypoints(gray,kp,image.copy())\n",
        "    #image = cv2.cvtColor(image, cv2.COLOR_BGR2GRAY)\n",
        "    axarr[i].imshow(image)\n",
        "    axarr[i].set_title(filename)\n",
        "    axarr[i].axis(\"off\")\n",
        "    i+=1\n",
        "    axarr[i].imshow(img)\n",
        "    axarr[i].set_title(filename)\n",
        "    \n",
        "    axarr[i].axis(\"off\")\n",
        "    i+=1"
      ],
      "execution_count": null,
      "outputs": [
        {
          "output_type": "display_data",
          "data": {
            "image/png": "[encoded data removed]",
            "text/plain": [
              "<Figure size 432x288 with 6 Axes>"
            ]
          },
          "metadata": {
            "tags": [],
            "needs_background": "light"
          }
        },
        {
          "output_type": "display_data",
          "data": {
            "image/png": "[encoded data removed]",
            "text/plain": [
              "<Figure size 432x288 with 6 Axes>"
            ]
          },
          "metadata": {
            "tags": [],
            "needs_background": "light"
          }
        }
      ]
    },
    {
      "cell_type": "markdown",
      "metadata": {
        "id": "J7aujsNs0_dG"
      },
      "source": [
        "#Figure 4: Clusters"
      ]
    },
    {
      "cell_type": "code",
      "metadata": {
        "id": "f3zicJED0-vk"
      },
      "source": [
        "ath='/content/drive/MyDrive/MRIPics/'\n",
        "width = 160\n",
        "height = 160\n",
        "dim = (width, height)\n",
        "\n",
        "\n",
        "for filename in os.listdir(path):\n",
        "  folder=os.path.join(path,filename)\n",
        "  random_file=random.choice(os.listdir(folder))\n",
        "  file=os.path.join(folder,random_file)\n",
        "  i=0\n",
        "  p,axarr=plt.subplots(1,3)\n",
        "  for f in os.listdir(file):\n",
        "    \n",
        "    #plt.figure(figsize=(10, 10))\n",
        "    ffile=os.path.join(file,f)\n",
        "    image = cv2.imread(ffile)\n",
        "    image = cv2.resize(image, dim, interpolation = cv2.INTER_AREA)\n",
        "    gray= cv2.cvtColor(image,cv2.COLOR_BGR2GRAY)\n",
        "    #kp = sift.detect(gray,None)\n",
        "    sift = cv2.SIFT_create()\n",
        "    kp, des = sift.detectAndCompute(gray,None)\n",
        "    img=cv2.drawKeypoints(gray,kp,image)\n",
        "    #image = cv2.cvtColor(image, cv2.COLOR_BGR2GRAY)\n",
        "    \n",
        "    axarr[i].imshow(img)\n",
        "    axarr[i].set_title(filename)\n",
        "    \n",
        "    axarr[i].axis(\"off\")\n",
        "    i+=1"
      ],
      "execution_count": null,
      "outputs": []
    }
  ]
}